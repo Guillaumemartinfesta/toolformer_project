{
  "cells": [
    {
      "cell_type": "code",
      "execution_count": 1,
      "metadata": {
        "id": "R0s1vP4CMkh4"
      },
      "outputs": [],
      "source": [
        "from duckduckgo_search import DDGS\n",
        "from datasets import load_dataset\n",
        "from transformers import AutoTokenizer, AutoModelForCausalLM\n",
        "import torch\n",
        "import pickle\n",
        "import textwrap\n",
        "from tqdm import tqdm\n",
        "import time\n",
        "import numpy as np\n",
        "import re\n",
        "import torch.nn.functional as F\n",
        "from collections import Counter"
      ]
    },
    {
      "cell_type": "code",
      "execution_count": 9,
      "metadata": {
        "colab": {
          "base_uri": "https://localhost:8080/",
          "height": 286,
          "referenced_widgets": [
            "bdf75e12b04e455a93a0514458ef2c96",
            "3ba57165c2934e9ab7514e4e15411c29",
            "515225600d0344f79c2a239905127cd6",
            "f550a8b0d9c047dba8a4a3bbc2d43156",
            "7ef5eb1f477341578b7126b0fb4a6099",
            "8f1e0592dbd54e30ad98f314d8fdbb11",
            "1d588a716d1b47ceb035b78d133b7d26",
            "29103cae2f444d328fd4fc7080b5a052",
            "c393d6dd207149ba8bf77d6909e3c815",
            "ddce33f7d7244e27a29f5e56a010288d",
            "e9439990ef264d529e47a6f66c54d799",
            "b29233829dae400dbf9dcad6f712ae4f",
            "e1fec7d0cf574a85b9d9e4d7a4f89639",
            "e98efc48d8164a7996c99a65924ed3b0",
            "51a0477b9e9f41a58b9d064c30ff981c",
            "9123aee03fcf4be29ef1923985103e74",
            "ffba0235fd764afebeb1881098c359fe",
            "ade2d273b3cf475181eef63439bf245f",
            "96642a34cda347ba8ad5430a4608de64",
            "2fa02c989de344c38f4ecc21d5936ef5",
            "70aa4c37c81e4abc964646a17c81d5a2",
            "a5992f2920724ebc85ba33cb23dd6786",
            "be5c04f15b624e868858742b7f94332f",
            "f16a2b168a7c4b16952df5205e2f31d2",
            "dce7e3b33ea749388d509525156628bb",
            "7ce73f60a61c4c5cb6f4a4ce0dffa06b",
            "8ef4c08e939645caabe92d3528395a78",
            "9081384391a14e08b7d0a4293b2ca3f8",
            "9935f3779dff4748b805dd045e72d852",
            "e20d978b58e149219e0ab9f362c42057",
            "d852e441662d48a69f9e3115a408f3cc",
            "e11ccf31e4a04ee28c1842a6dfa9a02f",
            "6e05f0e345bc4458bb8102c41e68fdb5",
            "c18a90e714324fa594ab8f62ab22338a",
            "92e26a568c4e434499cc7e7133326d74",
            "ff2baa0ee1ce4e07bd42d57dddb17f73",
            "3cdf263c940848f5ba19c5abcd432ecf",
            "1c4137632ec6449dab283b6ad67057da",
            "ef58f5230fff4b3e860a6f102ea44a28",
            "0ff64c3b2e814f4196e906badca3d15b",
            "2415735e90704ca39864d209a22cb452",
            "02656ccacdb740099b6b505ed70b9293",
            "a3ce1ec931e64503b031cc0baa9aefad",
            "5ab2de097e0a4b72909fead6c327188d",
            "d660179e9f344d8aa4da7a307e474d52",
            "e0bb99251041487e83ddaaa0e7ebb2db",
            "8f97a1d08bb541839da461323038429a",
            "600459d5f6914407829442dae02c7b52",
            "5975db7d6d464bb2b5586225f7b58826",
            "9efc8b4ac80f40db9087cd72fe3b7a87",
            "850e430d6858488a8adee2dba43b4b7e",
            "9b6a87655e1648f497f8d99d9473618f",
            "860034ccc02a48d091a1b417aa53b4a0",
            "6745b15d601f4314908ef405761405e7",
            "2ba884c0f27244eea13482f63179ae64"
          ]
        },
        "id": "5FgMB7OtMkh7",
        "outputId": "945970b8-e6fb-4223-b962-6db0bb84cc3c"
      },
      "outputs": [],
      "source": [
        "ds=load_dataset(\"squad\")"
      ]
    },
    {
      "cell_type": "code",
      "execution_count": 49,
      "metadata": {
        "colab": {
          "base_uri": "https://localhost:8080/"
        },
        "id": "GMHk3qkwUFmJ",
        "outputId": "66c92bdf-5f22-471d-fdba-29607039d658"
      },
      "outputs": [
        {
          "data": {
            "text/plain": [
              "True"
            ]
          },
          "execution_count": 49,
          "metadata": {},
          "output_type": "execute_result"
        }
      ],
      "source": [
        "torch.cuda.is_available()"
      ]
    },
    {
      "cell_type": "code",
      "execution_count": 2,
      "metadata": {
        "id": "NbX53t1mMkh8"
      },
      "outputs": [],
      "source": [
        "model_name = \"meta-llama/Llama-3.2-1B-Instruct\"\n",
        "tokenizer = AutoTokenizer.from_pretrained(model_name)\n",
        "tokenizer.pad_token_id=tokenizer.eos_token_id\n",
        "model = AutoModelForCausalLM.from_pretrained(model_name,torch_dtype=torch.bfloat16,device_map=\"cuda\")#attn_implementation=\"flash_attention_2\" -> I can't do this as it requires to be at least on a A100"
      ]
    },
    {
      "cell_type": "code",
      "execution_count": 45,
      "metadata": {
        "id": "Q892Om-KMkh8"
      },
      "outputs": [],
      "source": [
        "def make_web_search(query,max_results=1) :\n",
        "    \"\"\"\n",
        "    Perform a web search using the DuckDuckGo Search API.\n",
        "\n",
        "    Args:\n",
        "        query (str): The search query string to be used for the web search.\n",
        "\n",
        "    Returns:\n",
        "        str: A string containing the body of the first search result, \n",
        "              concatenated with a separator \" | \" if there are multiple results.\n",
        "    \"\"\"\n",
        "    with DDGS() as ddgs :\n",
        "        results= ddgs.text(query,max_results=max_results)\n",
        "    return \" | \".join([result[\"body\"] for result in results])\n",
        "\n",
        "\n",
        "def generate(prompt, model, tokenizer, make_api_calls=False):\n",
        "    \"\"\"\n",
        "    Generates a response from the prompt using model. \n",
        "    If make_api_calls=True, it will stop whenever\n",
        "    \"\"\"\n",
        "    inputs = tokenizer(\n",
        "        prompt,\n",
        "        return_tensors=\"pt\",\n",
        "        add_special_tokens=True,\n",
        "    ).to(model.device)\n",
        "    with torch.no_grad():\n",
        "      if not make_api_calls:\n",
        "          outputs = model.generate(**inputs, max_new_tokens=500, tokenizer=tokenizer, do_sample=False,use_cache=True,pad_token_id=tokenizer.eos_token_id)\n",
        "      else:\n",
        "          continue_generation=True\n",
        "          current_inputs=inputs\n",
        "          while continue_generation:\n",
        "            stop_strings=[\"<|eot_id|>\",\"→\"]\n",
        "            outputs = model.generate(**current_inputs, max_new_tokens=500, tokenizer=tokenizer, do_sample=True,use_cache=True,pad_token_id=tokenizer.eos_token_id,stop_strings=stop_strings)\n",
        "            text=tokenizer.decode(outputs[0])\n",
        "            if  text[-1]==\"→\":\n",
        "              api_call_text=text.split(\"[[\")[-1][:-1] #This should have the form WS(question)\n",
        "              query_text=api_call_text[3:-1]\n",
        "              print(query_text)\n",
        "              answer=make_web_search(query_text)\n",
        "              text=text.replace(api_call_text+\"→\",api_call_text+\"→\"+answer+\"]]\") #This will be of the form WS(question)→ response1 | response2 | response3...\n",
        "              current_inputs = tokenizer(\n",
        "                            text,\n",
        "                            return_tensors=\"pt\",\n",
        "                            add_special_tokens=True,\n",
        "                        ).to(model.device)\n",
        "            else :\n",
        "              continue_generation=False\n",
        "\n",
        "\n",
        "    result = outputs[0][inputs[\"input_ids\"].shape[-1]:]\n",
        "    return tokenizer.decode(result, skip_special_tokens=True)\n",
        "\n",
        "\n",
        "def format(system_prompt,user_prompt) :\n",
        "    \"\"\"Format the LLM prompt in the appropriat format\"\"\"\n",
        "    return f\"\"\"\n",
        "<|start_header_id|>system<|end_header_id|>\n",
        "\n",
        "{system_prompt}<|eot_id|>\n",
        "<|start_header_id|>user<|end_header_id|>\n",
        "\n",
        "{user_prompt}<|eot_id|>\n",
        "<|start_header_id|>assistant<|end_header_id|>\n",
        "\"\"\""
      ]
    },
    {
      "cell_type": "code",
      "execution_count": 52,
      "metadata": {
        "colab": {
          "base_uri": "https://localhost:8080/",
          "height": 91
        },
        "id": "COnAQIblRCGm",
        "outputId": "b7812052-4300-41b9-bc7f-8c4fbcbbd66c"
      },
      "outputs": [
        {
          "data": {
            "text/plain": [
              "'Rome is the capital city of Italy and the centre of the Metropolitan City of Rome Capital. It is also the cradle of Western civilization and Western Christian culture, and the seat of the Catholic Church and several UN agencies.'"
            ]
          },
          "execution_count": 52,
          "metadata": {},
          "output_type": "execute_result"
        }
      ],
      "source": [
        "# Test web search\n",
        "make_web_search(\"What is the capital of Italy?\")"
      ]
    },
    {
      "cell_type": "code",
      "execution_count": 53,
      "metadata": {
        "id": "Ke7rcYZBMkh8"
      },
      "outputs": [],
      "source": [
        "DATASET_GENERATION_PROMPT=\"\"\"Your task is to add Web Search API calls to a\n",
        "piece of text. The web searches should help you get\n",
        "information required to complete the text. You can call the\n",
        "API by writing \" [[WS(query)]] \" where \"query\" is the\n",
        "question you want to ask. You should only add in the middle of the text some API calls but should not modify in any way the text.\n",
        "Here are some examples of API calls:\n",
        "\n",
        "INPUT:\n",
        "'The ownership of the Spectre organisation—originally stylised \"SPECTRE\" as an acronym of SPecial Executive for Counter-intelligence, Terrorism, Revenge and Extortion—and its characters, had been at the centre of long-standing litigation starting in 1961 between Ian Fleming and Kevin McClory over the film rights to the novel Thunderball.'\n",
        "\n",
        "OUTPUT:\n",
        "'The ownership of the Spectre organisation—originally stylised \"SPECTRE\" as an acronym of [[WS(What is the acronym for the SPECTRE organization?)]] SPecial Executive for Counter-intelligence, Terrorism, Revenge and Extortion—and its characters, had been at the centre of long-standing litigation starting in 1961 between [[WS(Who was involved in the 1961 litigation about spectre ownership?)]] Ian Fleming and Kevin McClory over the film rights to the novel Thunderball.'\n",
        "\n",
        "INPUT:\n",
        "'In December 2015, West released a song titled \"Facts\". He announced in January 2016 on Twitter that SWISH would be released on February 11, after releasing new song \"Real Friends\" and a snippet of \"No More Parties in L.A.\" with Kendrick Lamar.'\n",
        "\n",
        "OUTPUT:\n",
        "In December 2015, West released a song titled [[WS(What song did West release in October 2015?)]] \"Facts\". He announced in January 2016 on Twitter that SWISH would be released on February 11, after releasing new song \"Real Friends\" and a snippet of \"No More Parties in L.A.\" with [[WS(Who did west sing \"Real Friends\" and \"No More Parties in L.A.\" with?)]] Kendrick Lamar.'\n",
        "\n",
        "INPUT:\n",
        "The capital of France is Paris.\n",
        "\n",
        "OUTPUT:\n",
        "The capital of France is [[WS(What is the capital of France?)]] Paris.\n",
        "\"\"\""
      ]
    },
    {
      "cell_type": "code",
      "execution_count": 10,
      "metadata": {
        "id": "lF-PqvbiMkh9"
      },
      "outputs": [],
      "source": [
        "train_ds_size=400\n",
        "# We use the wikipedia context as our training set and make sur to not have any duplicates\n",
        "train_texts=[]\n",
        "already_seen=set()\n",
        "for text in ds[\"train\"][\"context\"] :\n",
        "    if len(train_texts)==train_ds_size :\n",
        "        break\n",
        "    if text not in already_seen :\n",
        "        train_texts.append(text)\n",
        "        already_seen.add(text)"
      ]
    },
    {
      "cell_type": "code",
      "execution_count": 55,
      "metadata": {
        "colab": {
          "base_uri": "https://localhost:8080/"
        },
        "id": "uA-Io5AFMkh9",
        "outputId": "9e64ceb7-e328-4301-e4ac-ed17079f63de"
      },
      "outputs": [
        {
          "name": "stderr",
          "output_type": "stream",
          "text": [
            "c:\\Users\\litiw\\anaconda3\\Lib\\site-packages\\transformers\\generation\\configuration_utils.py:629: UserWarning: `do_sample` is set to `False`. However, `temperature` is set to `0.6` -- this flag is only used in sample-based generation modes. You should set `do_sample=True` or unset `temperature`.\n",
            "  warnings.warn(\n",
            "c:\\Users\\litiw\\anaconda3\\Lib\\site-packages\\transformers\\generation\\configuration_utils.py:634: UserWarning: `do_sample` is set to `False`. However, `top_p` is set to `0.9` -- this flag is only used in sample-based generation modes. You should set `do_sample=True` or unset `top_p`.\n",
            "  warnings.warn(\n"
          ]
        },
        {
          "name": "stdout",
          "output_type": "stream",
          "text": [
            "Architecturally, the school has a Catholic character. Atop the Main Building's gold dome is a golden\n",
            "statue of the Virgin Mary. Immediately in front of the Main Building and facing it, is a copper\n",
            "statue of Christ with arms upraised with the legend \"Venite Ad Me Omnes\". Next to the Main Building\n",
            "is the Basilica of the Sacred Heart. Immediately behind the basilica is the Grotto, a Marian place\n",
            "of prayer and reflection. It is a replica of the grotto at Lourdes, France where the Virgin Mary\n",
            "reputedly appeared to Saint Bernadette Soubirous in 1858. At the end of the main drive (and in a\n",
            "direct line that connects through 3 statues and the Gold Dome), is a simple, modern stone statue of\n",
            "Mary.\n",
            "----------------------------\n",
            "Architecturally, the school has a [[WS(What is the Catholic character of the school?)]] Catholic\n",
            "character. Atop the Main Building's gold dome is a golden statue of the Virgin Mary. Immediately in\n",
            "front of the Main Building and facing it, is a copper statue of Christ with arms upraised with the\n",
            "legend \"Venite Ad Me Omnes\". Next to the Main Building is the Basilica of the Sacred Heart.\n",
            "Immediately behind the basilica is the Grotto, a Marian place of prayer and reflection. It is a\n",
            "replica of the grotto at Lourdes, France where the Virgin Mary reputedly appeared to Saint\n",
            "Bernadette Soubirous in 1858. At the end of the main drive (and in a direct line that connects\n",
            "through 3 statues and the Gold Dome), is a simple, modern stone statue of Mary.\n"
          ]
        }
      ],
      "source": [
        "# Investigate answers\n",
        "answer=generate(format(DATASET_GENERATION_PROMPT,f\"INPUT:\\n{train_texts[0]}\\n\\nOUTPUT:\\n\"),model,tokenizer,make_api_calls=False)\n",
        "print(textwrap.fill(train_texts[0],width=100))\n",
        "print(\"----------------------------\")\n",
        "print(textwrap.fill(answer,width=100))"
      ]
    },
    {
      "cell_type": "markdown",
      "metadata": {
        "id": "Ev1lu-bXVsvM"
      },
      "source": [
        " Example of bad queries:\n",
        " WS(What is the Catholic character of the school?)\n",
        "\n",
        " The Web Search query in this case is not self contained and depends on the context making it bad. We hope the model will learn to not do this type of query as they will be filtered out in the next step."
      ]
    },
    {
      "cell_type": "markdown",
      "metadata": {},
      "source": [
        "# Step 1: Sampling API Calls"
      ]
    },
    {
      "cell_type": "code",
      "execution_count": 56,
      "metadata": {
        "colab": {
          "base_uri": "https://localhost:8080/"
        },
        "id": "NN-jjVG3Mkh9",
        "outputId": "0dd45781-e974-4de0-f0fb-1ba992b5dc5e"
      },
      "outputs": [
        {
          "name": "stderr",
          "output_type": "stream",
          "text": [
            "100%|██████████| 400/400 [1:50:33<00:00, 16.58s/it]  \n"
          ]
        }
      ],
      "source": [
        "raw_tool_augmented_text=[]\n",
        "for text  in tqdm(train_texts) :\n",
        "    raw_tool_augmented_text.append(generate(format(DATASET_GENERATION_PROMPT,f\"INPUT:\\n{text}\\n\\nOUTPUT:\\n\"),model,tokenizer,make_api_calls=False))"
      ]
    },
    {
      "cell_type": "code",
      "execution_count": 59,
      "metadata": {
        "colab": {
          "base_uri": "https://localhost:8080/",
          "height": 165
        },
        "id": "if2fHxKTWEh-",
        "outputId": "53f8fdee-30be-4ab0-8abe-5732bc365ab3"
      },
      "outputs": [],
      "source": [
        "with open(\"raw_tool_augmented_text.pkl\",\"wb\") as f :\n",
        "    pickle.dump(raw_tool_augmented_text,f)"
      ]
    },
    {
      "cell_type": "code",
      "execution_count": 7,
      "metadata": {},
      "outputs": [],
      "source": [
        "with open(\"raw_tool_augmented_text.pkl\",\"rb\") as f :\n",
        "    raw_tool_augmented_text=pickle.load(f)"
      ]
    },
    {
      "cell_type": "code",
      "execution_count": 5,
      "metadata": {},
      "outputs": [],
      "source": [
        "api_call_pattern=r\"\\[\\[.*?\\]\\]\""
      ]
    },
    {
      "cell_type": "code",
      "execution_count": 11,
      "metadata": {},
      "outputs": [
        {
          "name": "stdout",
          "output_type": "stream",
          "text": [
            "204\n"
          ]
        }
      ],
      "source": [
        "# We only keep valid annotations (e.g the annotation should be the same as the initial text if we remove API calls)\n",
        "valid_raw_tool_augmented_texts=[]\n",
        "for i in range(len(raw_tool_augmented_text)) :\n",
        "    cleaned_tool_text=re.sub(api_call_pattern, \"\", raw_tool_augmented_text[i]).replace(\"  \",\" \").replace(\"<|eot_id|>\",\"\")\n",
        "    # print(cleaned_tool_text==train_text[i])\n",
        "    # print(cleaned_tool_text)\n",
        "    # print(\"--------\")\n",
        "    # print(train_text[i])\n",
        "\n",
        "    if cleaned_tool_text==train_texts[i] :\n",
        "        valid_raw_tool_augmented_texts.append((raw_tool_augmented_text[i],train_texts[i]))\n",
        "print(len(valid_raw_tool_augmented_texts))"
      ]
    },
    {
      "cell_type": "markdown",
      "metadata": {},
      "source": [
        "When using sampling as our decoding strategy we get around 33% of valid annotation whereas we get closer to 50% with greedy decoding. We choose to use greedy decoding at this step.\n",
        "- Sample -> about 1/3 valid\n",
        "- Greedy decoding -> about 1/2 valid"
      ]
    },
    {
      "cell_type": "code",
      "execution_count": 63,
      "metadata": {},
      "outputs": [
        {
          "data": {
            "text/plain": [
              "[('Architecturally, the school has a [[WS(What is the Catholic character of the school?)]] Catholic character. Atop the Main Building\\'s gold dome is a golden statue of the Virgin Mary. Immediately in front of the Main Building and facing it, is a copper statue of Christ with arms upraised with the legend \"Venite Ad Me Omnes\". Next to the Main Building is the Basilica of the Sacred Heart. Immediately behind the basilica is the Grotto, a Marian place of prayer and reflection. It is a replica of the grotto at Lourdes, France where the Virgin Mary reputedly appeared to Saint Bernadette Soubirous in 1858. At the end of the main drive (and in a direct line that connects through 3 statues and the Gold Dome), is a simple, modern stone statue of Mary.',\n",
              "  'Architecturally, the school has a Catholic character. Atop the Main Building\\'s gold dome is a golden statue of the Virgin Mary. Immediately in front of the Main Building and facing it, is a copper statue of Christ with arms upraised with the legend \"Venite Ad Me Omnes\". Next to the Main Building is the Basilica of the Sacred Heart. Immediately behind the basilica is the Grotto, a Marian place of prayer and reflection. It is a replica of the grotto at Lourdes, France where the Virgin Mary reputedly appeared to Saint Bernadette Soubirous in 1858. At the end of the main drive (and in a direct line that connects through 3 statues and the Gold Dome), is a simple, modern stone statue of Mary.'),\n",
              " (\"As at most other universities, Notre Dame's students run a number of news media outlets. The nine student-run outlets include three newspapers, both a radio and television station, and several magazines and journals. Begun as a one-page journal in September 1876, the Scholastic magazine is issued twice monthly and claims to be the oldest continuous collegiate publication in the United States. The other magazine, The Juggler, is released twice a year and focuses on student literature and artwork. The Dome yearbook is published annually. The newspapers have varying publication interests, with The Observer published daily and mainly reporting university and other news, and staffed by students from both Notre Dame and Saint Mary's College. Unlike Scholastic and The Dome, The Observer is an independent publication and does not have a faculty advisor or any editorial oversight from the University. In 1987, when some students believed that The Observer began to show a conservative bias, a liberal newspaper, Common Sense was published. Likewise, in 2003, when other students believed that the paper showed a liberal bias, the conservative paper Irish Rover went into production. Neither paper is published as often as The Observer; however, all three are distributed to all students. Finally, in Spring 2008 an undergraduate journal for political science research, Beyond Politics, made its debut.\",\n",
              "  \"As at most other universities, Notre Dame's students run a number of news media outlets. The nine student-run outlets include three newspapers, both a radio and television station, and several magazines and journals. Begun as a one-page journal in September 1876, the Scholastic magazine is issued twice monthly and claims to be the oldest continuous collegiate publication in the United States. The other magazine, The Juggler, is released twice a year and focuses on student literature and artwork. The Dome yearbook is published annually. The newspapers have varying publication interests, with The Observer published daily and mainly reporting university and other news, and staffed by students from both Notre Dame and Saint Mary's College. Unlike Scholastic and The Dome, The Observer is an independent publication and does not have a faculty advisor or any editorial oversight from the University. In 1987, when some students believed that The Observer began to show a conservative bias, a liberal newspaper, Common Sense was published. Likewise, in 2003, when other students believed that the paper showed a liberal bias, the conservative paper Irish Rover went into production. Neither paper is published as often as The Observer; however, all three are distributed to all students. Finally, in Spring 2008 an undergraduate journal for political science research, Beyond Politics, made its debut.\"),\n",
              " ('The College of Engineering was established in 1920, however, early courses in civil and mechanical engineering were a part of the College of Science since the 1870s. Today the college, housed in the Fitzpatrick, Cushing, and Stinson-Remick Halls of Engineering, includes five departments of study – aerospace and mechanical engineering, chemical and biomolecular engineering, civil engineering and geological sciences, computer science and engineering, and electrical engineering – with eight B.S. degrees offered. Additionally, the college offers five-year dual degree programs with the Colleges of Arts and Letters and of Business awarding additional B.A. and Master of Business Administration (MBA) degrees, respectively.',\n",
              "  'The College of Engineering was established in 1920, however, early courses in civil and mechanical engineering were a part of the College of Science since the 1870s. Today the college, housed in the Fitzpatrick, Cushing, and Stinson-Remick Halls of Engineering, includes five departments of study – aerospace and mechanical engineering, chemical and biomolecular engineering, civil engineering and geological sciences, computer science and engineering, and electrical engineering – with eight B.S. degrees offered. Additionally, the college offers five-year dual degree programs with the Colleges of Arts and Letters and of Business awarding additional B.A. and Master of Business Administration (MBA) degrees, respectively.'),\n",
              " ('The university first offered [[WS(What type of degree did the university first offer in 1854-1855?)]] graduate degrees, in the form of a Master of Arts (MA), in the 1854–1855 academic year. The program expanded to include Master of Laws (LL.M.) and Master of Civil Engineering in its early stages of growth, before a formal graduate school education was developed with a thesis not required to receive the degrees. This changed in 1924 with formal requirements developed for graduate degrees, including offering [[WS(What type of degree was developed in 1924?)]] Doctorate (PhD) degrees. Today each of the five colleges offer graduate education. Most of the departments from the College of Arts and Letters offer PhD programs, while a professional Master of Divinity (M.Div.) program also exists. All of the departments in the College of Science offer PhD programs, except for the Department of Pre-Professional Studies. The School of Architecture offers a Master of Architecture, while each of the departments of the College of Engineering offer PhD programs. The College of Business offers multiple professional programs including MBA and Master of Science in Accountancy programs. It also operates facilities in Chicago and Cincinnati for its executive MBA program. Additionally, the Alliance for Catholic Education program offers a Master of Education program where students study at the university during the summer and teach in Catholic elementary schools, middle schools, and high schools across the Southern United States for two school years.',\n",
              "  'The university first offered graduate degrees, in the form of a Master of Arts (MA), in the 1854–1855 academic year. The program expanded to include Master of Laws (LL.M.) and Master of Civil Engineering in its early stages of growth, before a formal graduate school education was developed with a thesis not required to receive the degrees. This changed in 1924 with formal requirements developed for graduate degrees, including offering Doctorate (PhD) degrees. Today each of the five colleges offer graduate education. Most of the departments from the College of Arts and Letters offer PhD programs, while a professional Master of Divinity (M.Div.) program also exists. All of the departments in the College of Science offer PhD programs, except for the Department of Pre-Professional Studies. The School of Architecture offers a Master of Architecture, while each of the departments of the College of Engineering offer PhD programs. The College of Business offers multiple professional programs including MBA and Master of Science in Accountancy programs. It also operates facilities in Chicago and Cincinnati for its executive MBA program. Additionally, the Alliance for Catholic Education program offers a Master of Education program where students study at the university during the summer and teach in Catholic elementary schools, middle schools, and high schools across the Southern United States for two school years.'),\n",
              " (\"The Joan B. Kroc Institute for International Peace Studies at the University of Notre Dame is dedicated to research, education and outreach on the causes of violent conflict and the conditions for sustainable peace. It offers PhD, Master's, and undergraduate degrees in peace studies. It was founded in 1986 through the donations of Joan B. Kroc, the widow of McDonald's owner Ray Kroc. The institute was inspired by the vision of the Rev. Theodore M. Hesburgh CSC, President Emeritus of the University of Notre Dame. The institute has contributed to international policy discussions about peace building practices.\",\n",
              "  \"The Joan B. Kroc Institute for International Peace Studies at the University of Notre Dame is dedicated to research, education and outreach on the causes of violent conflict and the conditions for sustainable peace. It offers PhD, Master's, and undergraduate degrees in peace studies. It was founded in 1986 through the donations of Joan B. Kroc, the widow of McDonald's owner Ray Kroc. The institute was inspired by the vision of the Rev. Theodore M. Hesburgh CSC, President Emeritus of the University of Notre Dame. The institute has contributed to international policy discussions about peace building practices.\")]"
            ]
          },
          "execution_count": 63,
          "metadata": {},
          "output_type": "execute_result"
        }
      ],
      "source": [
        "valid_raw_tool_augmented_texts[:5]"
      ]
    },
    {
      "cell_type": "markdown",
      "metadata": {},
      "source": [
        "# Step 2: Executing API Calls"
      ]
    },
    {
      "cell_type": "code",
      "execution_count": 125,
      "metadata": {},
      "outputs": [],
      "source": [
        "valid_parsed_tool_augmented_texts=[]"
      ]
    },
    {
      "cell_type": "code",
      "execution_count": 128,
      "metadata": {},
      "outputs": [
        {
          "name": "stderr",
          "output_type": "stream",
          "text": [
            "0it [00:00, ?it/s]\n"
          ]
        }
      ],
      "source": [
        "for raw_tool_augmented_text, train_text in tqdm(valid_raw_tool_augmented_texts[len(valid_parsed_tool_augmented_texts):]) :\n",
        "    api_calls=re.findall(api_call_pattern,raw_tool_augmented_text)\n",
        "    for api_call in api_calls :\n",
        "        query=api_call[5:-3]\n",
        "        # We need to sleep between each web search otherwise we reach duckduckgo rate limits\n",
        "        # We also implement retries to not get blocked if receiving a rate limit exception\n",
        "        num_retry=10\n",
        "        for i in range(num_retry) :\n",
        "            try :\n",
        "                answer=make_web_search(query)\n",
        "                break\n",
        "            except Exception as e:\n",
        "                if i==num_retry-1 :\n",
        "                    raise(e)\n",
        "                time.sleep(30)\n",
        "                continue\n",
        "\n",
        "        raw_tool_augmented_text=raw_tool_augmented_text.replace(api_call,f\"[[WS({query})→{answer}]]\")\n",
        "    valid_parsed_tool_augmented_texts.append((raw_tool_augmented_text,train_text))"
      ]
    },
    {
      "cell_type": "code",
      "execution_count": 123,
      "metadata": {},
      "outputs": [],
      "source": [
        "with open(\"valid_parsed_tool_augmented_texts.pkl\",\"wb\") as f:\n",
        "    pickle.dump(valid_parsed_tool_augmented_texts,f)"
      ]
    },
    {
      "cell_type": "code",
      "execution_count": 127,
      "metadata": {},
      "outputs": [],
      "source": [
        "with open(\"valid_parsed_tool_augmented_texts.pkl\",\"rb\") as f:\n",
        "    valid_parsed_tool_augmented_texts=pickle.load(f)\n"
      ]
    },
    {
      "cell_type": "code",
      "execution_count": 12,
      "metadata": {},
      "outputs": [
        {
          "data": {
            "text/plain": [
              "Counter({1: 79, 0: 65, 2: 30, 3: 20, 4: 7, 6: 2, 5: 1})"
            ]
          },
          "execution_count": 12,
          "metadata": {},
          "output_type": "execute_result"
        }
      ],
      "source": [
        "#Counter of the number of proposed API calls per text\n",
        "Counter([len(re.findall(api_call_pattern,valid_raw_tool_augmented_text)) for valid_raw_tool_augmented_text,_ in valid_raw_tool_augmented_texts])"
      ]
    },
    {
      "cell_type": "markdown",
      "metadata": {},
      "source": [
        "# Step 3: Filtering API calls"
      ]
    },
    {
      "cell_type": "code",
      "execution_count": null,
      "metadata": {},
      "outputs": [],
      "source": [
        "# The threshold for the increase of performance by an API call to consider it useful\n",
        "# We choose it by trial and error to keep good precision (the API calls kept are indeed of good quality) and recall(we do not throw too many API calls) \n",
        "tau=0.3\n",
        "begin_token=tokenizer(\" [[\")[\"input_ids\"][-1] #4416\n",
        "end_token=tokenizer(\"]]\")[\"input_ids\"][-1] #5163\n",
        "\n",
        "def  get_cross_entropy(logits,input_ids) :\n",
        "    log_probs=F.log_softmax(logits,dim=1)\n",
        "    return -torch.sum(log_probs.gather(-1,input_ids.unsqueeze(-1)))\n",
        "\n",
        "def get_logits_input_ids(text) :\n",
        "    input=tokenizer(text,return_tensors=\"pt\",add_special_tokens=True).to(model.device)\n",
        "    input_ids=input[\"input_ids\"][0][1:] #We need to shift input_ids by 1 such that it is aligned with the logits. \n",
        "    with torch.no_grad() :\n",
        "        logits=model(**input).logits[0]\n",
        "    return logits,input_ids\n",
        "\n",
        "def get_tool_call_to_remove(text_tool,text_no_tool):\n",
        "    \"\"\"\n",
        "    This function determines which tool calls can be removed from the text based on their contribution to\n",
        "    the overall performance (decrease in cross entropy). \n",
        "    \n",
        "    When an API call is made at index i and the next call is at index j (j=len(text) if there is not another call)),\n",
        "    we evaluate the gain in cross entropy loss for the segment [i,j] of the text. \n",
        "    This approach is different from the one used in the paper as we do not compute the loss on the rest\n",
        "    of the text but only on the part up to the next API call. This enables to have multiple API calls per text\n",
        "    in our trainset while the original paper allowed only 1 call per text.   \n",
        "\n",
        "    We consider the loss with the API call(L1), without the API call(L2), and with the API call where we replace the\n",
        "    response by ...(L3)\n",
        "    If L1<min(L2,L3)-tau we consider the API call helpful enough and keep it, otherwise we discard it\n",
        "\n",
        "    Parameters:\n",
        "    - text_tool (str): The text containing tool calls.\n",
        "    - text_no_tool (str): The text without any tool calls.\n",
        "    \n",
        "    Returns:\n",
        "    - tool_call_to_remove_idx (list): A list of indices of tool calls that can be removed.\n",
        "    \"\"\"\n",
        "    logits_no_tool,input_id_no_tool=get_logits_input_ids(text_no_tool)\n",
        "    logits_tool,input_id_tool=get_logits_input_ids(text_tool)\n",
        "    text_tool_no_resp=re.sub(r\"→.*?]]\",\"→...]]\",text_tool)\n",
        "    logits_tool_no_resp,input_id_tool_no_resp=get_logits_input_ids(text_tool_no_resp)   \n",
        "\n",
        "    num_calls=(input_id_tool==begin_token).sum()\n",
        "    tool_call_to_remove_idx=[]\n",
        "    for i in range(num_calls) :\n",
        "        next_api_call_start_idx=(input_id_tool==begin_token).nonzero()[1] if i<num_calls-1 else len(input_id_tool)\n",
        "        api_call_start_idx=(input_id_tool==begin_token).nonzero()[0]\n",
        "        api_call_end_idx=(input_id_tool==end_token).nonzero()[0]\n",
        "        api_call_end_idx_no_resp=(input_id_tool_no_resp==end_token).nonzero()[0]\n",
        "        section_length=next_api_call_start_idx-api_call_end_idx-1\n",
        "        \n",
        "        input_id_tool=input_id_tool[api_call_end_idx+1:]\n",
        "        logits_tool=logits_tool[api_call_end_idx+1:]\n",
        "        input_id_tool_no_resp=input_id_tool_no_resp[api_call_end_idx_no_resp+1:]\n",
        "        logits_tool_no_resp=logits_tool_no_resp[api_call_end_idx_no_resp+1:]\n",
        "        input_id_no_tool=input_id_no_tool[api_call_start_idx:]\n",
        "        logits_no_tool=logits_no_tool[api_call_start_idx:]\n",
        "        \n",
        "        loss_no_tool=get_cross_entropy(logits_no_tool[:section_length],input_id_no_tool[:section_length])\n",
        "        loss_tool=get_cross_entropy(logits_tool[:section_length],input_id_tool[:section_length])\n",
        "        loss_tool_no_resp=get_cross_entropy(logits_tool_no_resp[:section_length],input_id_tool_no_resp[:section_length])\n",
        "        \n",
        "        if loss_tool>min(loss_no_tool,loss_tool_no_resp)-tau :\n",
        "            tool_call_to_remove_idx.append(i)\n",
        "    return tool_call_to_remove_idx\n"
      ]
    },
    {
      "cell_type": "code",
      "execution_count": 142,
      "metadata": {},
      "outputs": [],
      "source": [
        "#We remove every tool call that is not \"helpful\" enough.\n",
        "final_text_tool=[]\n",
        "removed_tool_calls=[]\n",
        "for text_tool,text_no_tool in valid_parsed_tool_augmented_texts:\n",
        "    tool_calls=re.findall(api_call_pattern,text_tool)\n",
        "    for tool_call_to_remove_idx in get_tool_call_to_remove(text_tool,text_no_tool):\n",
        "        removed_tool_calls.append(tool_calls[tool_call_to_remove_idx])\n",
        "        text_tool=text_tool.replace(tool_calls[tool_call_to_remove_idx],\"\")\n",
        "    final_text_tool.append(text_tool)"
      ]
    },
    {
      "cell_type": "code",
      "execution_count": 149,
      "metadata": {},
      "outputs": [],
      "source": [
        "# Save final_text_tool to a pickle file\n",
        "with open('final_text_tool.pkl', 'wb') as f:\n",
        "    pickle.dump(final_text_tool, f)"
      ]
    },
    {
      "cell_type": "code",
      "execution_count": 3,
      "metadata": {},
      "outputs": [],
      "source": [
        "# Load final_text_tool from the pickle file\n",
        "with open('final_text_tool.pkl', 'rb') as f:\n",
        "    final_text_tool = pickle.load(f)"
      ]
    },
    {
      "cell_type": "code",
      "execution_count": 6,
      "metadata": {},
      "outputs": [
        {
          "data": {
            "text/plain": [
              "Counter({0: 169, 1: 27, 2: 6, 3: 2})"
            ]
          },
          "execution_count": 6,
          "metadata": {},
          "output_type": "execute_result"
        }
      ],
      "source": [
        "#Counter of the number of proposed API calls per text\n",
        "Counter([len(re.findall(api_call_pattern,text)) for text in final_text_tool])"
      ]
    },
    {
      "cell_type": "code",
      "execution_count": 7,
      "metadata": {},
      "outputs": [],
      "source": [
        "#We only keep examples that contain some API calls.\n",
        "final_filtered_text_tool=[text for text in final_text_tool if \"[[\" in text]"
      ]
    },
    {
      "cell_type": "code",
      "execution_count": 145,
      "metadata": {},
      "outputs": [
        {
          "name": "stdout",
          "output_type": "stream",
          "text": [
            "The Lobund Institute grew out of pioneering research in [[WS(What is\n",
            "the field of research that Lobund Institute is associated\n",
            "with?)→Lobund Institute. The Lobund Institute grew out of pioneering\n",
            "research in germ-free-life which began in 1928. This area of research\n",
            "originated in a question posed by Pasteur as to whether animal life\n",
            "was possible without bacteria. ... Lobund was the first research\n",
            "organization to answer definitively, that such life is possible and\n",
            "that it can ...]] germ-free-life which began in 1928. This area of\n",
            "research originated in a question posed by Pasteur as to whether\n",
            "animal life was possible without bacteria. Though others had taken up\n",
            "this idea, their research was short lived and inconclusive. Lobund was\n",
            "the first research organization to answer definitively, that such life\n",
            "is possible and that it can be prolonged through generations. But the\n",
            "objective was not merely to answer Pasteur's question but also to\n",
            "produce the germ free animal as a new tool for biological and medical\n",
            "research. This objective was reached and for years Lobund was a unique\n",
            "center for the study and production of germ free animals and for their\n",
            "use in biological and medical investigations. Today the work has\n",
            "spread to other universities. In the beginning it was under the\n",
            "Department of Biology and a program leading to the master's degree\n",
            "accompanied the research program. In the 1940s Lobund achieved\n",
            "independent status as a purely research organization and in 1950 was\n",
            "raised to the status of an Institute. In 1958 it was brought back into\n",
            "the Department of Biology as integral part of that department, but\n",
            "with its own program leading to the degree of PhD in Gnotobiotics.\n",
            "------------\n",
            "In 1919  Father James Burns became president of  Notre Dame, and in\n",
            "three years he produced an academic revolution that brought the school\n",
            "up to national standards by adopting the elective system and moving\n",
            "away from the university's traditional scholastic and classical\n",
            "emphasis. By contrast, the Jesuit colleges, bastions of academic\n",
            "conservatism, were reluctant to move to a system of electives. Their\n",
            "graduates were shut out of [[WS(What law school did Notre Dame's\n",
            "graduates were shut out of?)→By contrast, the Jesuit colleges,\n",
            "bastions of academic conservatism, were reluctant to move to a system\n",
            "of electives; for this reason, their graduates were shut out of\n",
            "Harvard Law School. Notre Dame continued to grow over the years,\n",
            "adding more colleges, programs, residence halls, and sports teams.]]\n",
            "Harvard Law School for that reason. Notre Dame continued to grow over\n",
            "the years, adding more colleges, programs, and sports teams. By 1921,\n",
            "with the addition of the College of Commerce, Notre Dame had grown\n",
            "from a small college to a university with five colleges and a\n",
            "professional law school. The university continued to expand and add\n",
            "new residence halls and buildings with each subsequent president.\n",
            "------------\n",
            "Notre Dame rose to national prominence in the early 1900s for its\n",
            "[[WS(What Fighting Irish football team?)→The Official Athletic Site of\n",
            "the Notre Dame Fighting Irish. The most comprehensive coverage of The\n",
            "Fighting Irish Football roster, schedule game summaries, scores,\n",
            "highlights on the web. Powered by WMT Digital.]] Fighting Irish\n",
            "football team, especially under the guidance of the legendary coach\n",
            "Knute Rockne. The university's athletic teams are members of the NCAA\n",
            "Division I and are known collectively as the Fighting Irish. The\n",
            "football team, an Independent, has accumulated eleven consensus\n",
            "national championships, seven Heisman Trophy winners, 62 members in\n",
            "the College Football Hall of Fame and 13 members in the Pro Football\n",
            "Hall of Fame and is considered one of the most famed and successful\n",
            "college football teams in history. Other ND teams, chiefly in the\n",
            "Atlantic Coast Conference, have accumulated 16 national championships.\n",
            "The Notre Dame Victory March is often regarded as the most famous and\n",
            "recognizable collegiate fight song.\n",
            "------------\n",
            "In 1842, the Bishop of Vincennes, Célestine Guynemer de la\n",
            "Hailandière, offered land to  Father Edward Sorin of the Congregation\n",
            "of the Holy Cross, on the condition that he build a college in two\n",
            "years. Fr. Sorin arrived on the site with eight Holy Cross brothers\n",
            "from France and Ireland on November 26, 1842, and began the school\n",
            "using [[WS(What was the name of the old log chapel built by Fr.\n",
            "Sorin?)→The Log Chapel was originally built in 1831 by Rev. Fr.\n",
            "Stephen Badin as a mission to the Potawatomi Indians in what would\n",
            "become northern Indiana. It was one of the first Catholic places of\n",
            "worship in Northern Indiana. It was given in 1842 to Fr. Edward Sorin,\n",
            "and it became the original nucleus of the University of Notre Dame.\n",
            "[2]When Sorin arrived on campus, the Log Chapel was the main ...]]\n",
            "Father Stephen Badin's old log chapel. He soon erected additional\n",
            "buildings, including Old College, the first church, and the first main\n",
            "building. They immediately acquired two students and set about\n",
            "building additions to the campus.\n",
            "------------\n",
            "The first phase of Eddy Street Commons, a $215 million development\n",
            "[[WS(What is the total cost of the Eddy Street Commons\n",
            "development?)→Work concluded recently on the final 14 townhomes at\n",
            "Eddy Street Commons, the $315 million mixed-use development along Eddy\n",
            "Street in South Bend. The result of a public-private partnership\n",
            "between Notre Dame, Kite Realty Group, and the City of South Bend,\n",
            "among others, the project on University-owned land south of campus\n",
            "broke ground in 2008.]] located adjacent to the University of Notre\n",
            "Dame campus and funded by the university, broke ground on June 3,\n",
            "2008. The Eddy Street Commons drew union protests when workers hired\n",
            "by the City of South Bend to construct the public parking garage\n",
            "picketed the private work site after a contractor hired non-union\n",
            "workers. The developer, Kite Realty out of Indianapolis, has made\n",
            "agreements with major national chains rather than local businesses, a\n",
            "move that has led to criticism from alumni and students.\n",
            "------------\n"
          ]
        }
      ],
      "source": [
        "for text in final_filtered_text_tool[:5] :\n",
        "    if \"[[\" in text :\n",
        "        print(textwrap.fill(text))\n",
        "        print(\"------------\")"
      ]
    },
    {
      "cell_type": "code",
      "execution_count": 147,
      "metadata": {},
      "outputs": [
        {
          "data": {
            "text/plain": [
              "['[[WS(What is the Catholic character of the school?)→Catholic education is rooted in the conviction that Jesus Christ provides the most comprehensive and compelling example of the realization of full human potential (The Catholic School, 34, 35). In every aspect of programs, life, and activities, Catholic schools should foster a personal relationship with Jesus Christ and communal witness to the ...]]',\n",
              " '[[WS(What type of degree did the university first offer in 1854-1855?)→The 1855 diploma of William Gouverneur Morris, who earned an LL.B. degree from Harvard Law School. It was signed by Harvard President James Walker, under whose regime (1853-1860) Harvard constructed its first sciences building, offered its first music course, and hired its first black staffer, boxing instructor A. Molyneaux Hewlett.]]',\n",
              " '[[WS(What type of degree was developed in 1924?)→How did the first nursing doctorate offered by Columbia University in 1924 differ from the various practice-based degrees that were developed during the 1970s? A. It was a PhD degree focused heavily on nursing theory rather than nursing practice.]]',\n",
              " '[[WS(What is the name of the mural in the library?)→Videos about the poem and mural are available on the Library\\'s YouTube channel, or view the mural and interpret \"The Understory\" for yourself at Merriam Plaza Library during regular library hours. Dylan Reiter, patron services specialist at the library said the mural is a hit: \"The patrons I have talked to really appreciate the vivid ...]]',\n",
              " '[[WS(How many students were admitted to Notre Dame in 2015?)→Univ of Notre Dame Common Data Set 2015-2016 A0 Respondent Information (Not for Publication) A0 Name: ... men who were admitted First-time, first-year, (freshmen) students: Provide the number of degree-seeking, first-time, first-year students who applied, were admitted, and enrolled (full- or part-time) in Fall 2015. Include early]]',\n",
              " '[[WS(What was the name of the founder of the Review of Politics?)→The Review of Politics is a quarterly peer-reviewed academic journal in the fields of politics, philosophy, and history. [1] It was founded in 1939 and is published by Cambridge University Press. [2] References External links. Official website; This page was last edited on 30 April 2023, at 16:14 (UTC). Text is ...]]',\n",
              " '[[WS(What year did Father James Burns become president of Notre Dame?)→The Rev. James Aloysius Burns, C.S.C. (February 13, 1867 — September 9, 1940) was an American priest and President of the University of Notre Dame from 1919 to 1922. He played a significant role in transforming Notre Dame into a national research university. [1] [2] He was professor of chemistry at Notre Dame from 1895 to 1900.He was a theorist of education, and wrote numerous books on the ...]]',\n",
              " '[[WS(What school did Burns become president of?)→Born in 1958, Burns was raised by a single mother in the Baruch Houses, a housing project in New York City. [1] Both of her parents were Panamanian immigrants. She attended and graduated Cathedral High School, [7] a Catholic all-girls school on East 56th Street in New York.. After high school, Burns attended Brooklyn Polytechnic Institute (now New York University Tandon School of Engineering ...]]',\n",
              " '[[WS(What is the name of the University that the football team is from?)→The Alabama Crimson Tide football team, back then going by the name the Alabama Cadets football team, represented the University of Alabama in college football beginning in 1892. The Alabama Cadets, established the previous year, were ready to hit the ground running for the 1892 season.]]',\n",
              " '[[WS(What city is the university located in?)→Where is Stanford? Silicon Valley. Located 35 miles south of San Francisco and 20 miles north of San Jose, Stanford University is in the heart of Northern California\\'s dynamic \"Silicon Valley,\" home to Yahoo!, Google, Hewlett-Packard, and many other cutting-edge companies that were started by and continue to be led by Stanford alumni and faculty.]]']"
            ]
          },
          "execution_count": 147,
          "metadata": {},
          "output_type": "execute_result"
        }
      ],
      "source": [
        "removed_tool_calls[:10]"
      ]
    },
    {
      "cell_type": "markdown",
      "metadata": {},
      "source": [
        "We can see here that our methods seems to work ! \n",
        "All the web search that were made indeed make the generation easier. However we can see one issue arise: Sometimes bad question can lead to helpful results and so they will be accepted. On the otherhand some good questions do not lead to useful results and are thus discarded. This problem is more linked to the websearch part which we will not dive further on (the way it is done in the paper is by using RAG with a BM25 sparse embedding on wikipedia dumps). "
      ]
    },
    {
      "cell_type": "markdown",
      "metadata": {},
      "source": [
        "# Step 4: Finetuning on the filtered dataset obtained"
      ]
    },
    {
      "cell_type": "code",
      "execution_count": null,
      "metadata": {},
      "outputs": [
        {
          "name": "stdout",
          "output_type": "stream",
          "text": [
            "trainable params: 11,272,192 || all params: 1,247,086,592 || trainable%: 0.9039\n"
          ]
        },
        {
          "data": {
            "application/vnd.jupyter.widget-view+json": {
              "model_id": "b7378858609547ab9782f8f744c83f98",
              "version_major": 2,
              "version_minor": 0
            },
            "text/plain": [
              "Map:   0%|          | 0/35 [00:00<?, ? examples/s]"
            ]
          },
          "metadata": {},
          "output_type": "display_data"
        },
        {
          "data": {
            "text/html": [
              "\n",
              "    <div>\n",
              "      \n",
              "      <progress value='180' max='180' style='width:300px; height:20px; vertical-align: middle;'></progress>\n",
              "      [180/180 58:21, Epoch 20/20]\n",
              "    </div>\n",
              "    <table border=\"1\" class=\"dataframe\">\n",
              "  <thead>\n",
              " <tr style=\"text-align: left;\">\n",
              "      <th>Step</th>\n",
              "      <th>Training Loss</th>\n",
              "    </tr>\n",
              "  </thead>\n",
              "  <tbody>\n",
              "    <tr>\n",
              "      <td>9</td>\n",
              "      <td>4.517600</td>\n",
              "    </tr>\n",
              "    <tr>\n",
              "      <td>18</td>\n",
              "      <td>1.439000</td>\n",
              "    </tr>\n",
              "    <tr>\n",
              "      <td>27</td>\n",
              "      <td>1.228800</td>\n",
              "    </tr>\n",
              "    <tr>\n",
              "      <td>36</td>\n",
              "      <td>1.051300</td>\n",
              "    </tr>\n",
              "    <tr>\n",
              "      <td>45</td>\n",
              "      <td>0.842200</td>\n",
              "    </tr>\n",
              "    <tr>\n",
              "      <td>54</td>\n",
              "      <td>0.607900</td>\n",
              "    </tr>\n",
              "    <tr>\n",
              "      <td>63</td>\n",
              "      <td>0.398200</td>\n",
              "    </tr>\n",
              "    <tr>\n",
              "      <td>72</td>\n",
              "      <td>0.219800</td>\n",
              "    </tr>\n",
              "    <tr>\n",
              "      <td>81</td>\n",
              "      <td>0.112600</td>\n",
              "    </tr>\n",
              "    <tr>\n",
              "      <td>90</td>\n",
              "      <td>0.063200</td>\n",
              "    </tr>\n",
              "    <tr>\n",
              "      <td>99</td>\n",
              "      <td>0.039300</td>\n",
              "    </tr>\n",
              "    <tr>\n",
              "      <td>108</td>\n",
              "      <td>0.024300</td>\n",
              "    </tr>\n",
              "    <tr>\n",
              "      <td>117</td>\n",
              "      <td>0.020600</td>\n",
              "    </tr>\n",
              "    <tr>\n",
              "      <td>126</td>\n",
              "      <td>0.018000</td>\n",
              "    </tr>\n",
              "    <tr>\n",
              "      <td>135</td>\n",
              "      <td>0.016300</td>\n",
              "    </tr>\n",
              "    <tr>\n",
              "      <td>144</td>\n",
              "      <td>0.015200</td>\n",
              "    </tr>\n",
              "    <tr>\n",
              "      <td>153</td>\n",
              "      <td>0.014600</td>\n",
              "    </tr>\n",
              "    <tr>\n",
              "      <td>162</td>\n",
              "      <td>0.014200</td>\n",
              "    </tr>\n",
              "    <tr>\n",
              "      <td>171</td>\n",
              "      <td>0.014200</td>\n",
              "    </tr>\n",
              "    <tr>\n",
              "      <td>180</td>\n",
              "      <td>0.014000</td>\n",
              "    </tr>\n",
              "  </tbody>\n",
              "</table><p>"
            ],
            "text/plain": [
              "<IPython.core.display.HTML object>"
            ]
          },
          "metadata": {},
          "output_type": "display_data"
        }
      ],
      "source": [
        "from transformers import Trainer, TrainingArguments,DataCollatorForLanguageModeling\n",
        "from peft import LoraConfig, get_peft_model, TaskType, prepare_model_for_kbit_training\n",
        "from datasets import Dataset\n",
        "\n",
        "# Create a dataset from final_filtered_text_tool\n",
        "dataset = Dataset.from_dict({\"text\": final_filtered_text_tool})\n",
        "\n",
        "# 2. Define LoRA (Low Rank Adaptation) configuration\n",
        "lora_config = LoraConfig(\n",
        "    r=16,  # rank\n",
        "    lora_alpha=32,\n",
        "    target_modules=[\"gate_proj\", \"down_proj\", \"up_proj\",\"q_proj\", \"v_proj\", \"k_proj\", \"o_proj\"], #All the linear modules \n",
        "    lora_dropout=0.05,\n",
        "    bias=\"none\",\n",
        "    task_type=TaskType.CAUSAL_LM\n",
        ")\n",
        "\n",
        "peft_model=get_peft_model(model,lora_config)\n",
        "peft_model.print_trainable_parameters()\n",
        "\n",
        "def tokenize_function(examples):\n",
        "    tokenized= tokenizer(\n",
        "        examples[\"text\"],\n",
        "        truncation=True,\n",
        "        padding=\"max_length\",\n",
        "        max_length=512,  \n",
        "        return_tensors=None, \n",
        "        return_special_tokens_mask=True\n",
        "    )\n",
        "    tokenized[\"labels\"] = tokenized[\"input_ids\"].copy()\n",
        "    return tokenized\n",
        "\n",
        "\n",
        "tokenized_dataset = dataset.map(\n",
        "    tokenize_function,\n",
        "    batched=True,\n",
        "    remove_columns=dataset.column_names  # This removes the original text column\n",
        ")\n",
        "\n",
        "# Define training arguments\n",
        "training_args = TrainingArguments(\n",
        "    output_dir=\"./results\",\n",
        "    num_train_epochs=20,\n",
        "    per_device_train_batch_size=4,\n",
        "    learning_rate=2e-4,\n",
        "    fp16=True,\n",
        "    weight_decay=0.99,\n",
        "    lr_scheduler_type=\"cosine\",\n",
        "    warmup_steps=10,\n",
        "    save_total_limit=2,\n",
        "    logging_dir=\"./logs\",  # Directory for storing logs\n",
        "    save_strategy=\"epoch\",\n",
        "    logging_strategy=\"epoch\",  # Log every epoch\n",
        "    # logging_steps=10,\n",
        "    report_to=[\"tensorboard\"],\n",
        "    optim=\"adamw_torch\",\n",
        "    label_names=[\"input_ids\"]\n",
        ")\n",
        "\n",
        "# Initialize trainer\n",
        "trainer = Trainer(\n",
        "    model=peft_model,  # Using the model defined earlier\n",
        "    args=training_args,\n",
        "    train_dataset=tokenized_dataset,\n",
        "    # data_collator=data_collator\n",
        ")\n",
        "\n",
        "# Train the model\n",
        "trainer.train()\n",
        "\n",
        "# Save the model\n",
        "trainer.save_model(\"./toolformer_finetuned\")\n"
      ]
    },
    {
      "cell_type": "code",
      "execution_count": 9,
      "metadata": {},
      "outputs": [],
      "source": [
        "trainer.save_model(\"./toolformer_finetuned\")"
      ]
    },
    {
      "cell_type": "markdown",
      "metadata": {},
      "source": [
        "# Results"
      ]
    },
    {
      "cell_type": "code",
      "execution_count": 23,
      "metadata": {},
      "outputs": [],
      "source": [
        "trained_model=AutoModelForCausalLM.from_pretrained(\"./toolformer_finetuned\",device_map=\"cuda\")"
      ]
    },
    {
      "cell_type": "code",
      "execution_count": 24,
      "metadata": {},
      "outputs": [
        {
          "data": {
            "text/plain": [
              "device(type='cuda', index=0)"
            ]
          },
          "execution_count": 24,
          "metadata": {},
          "output_type": "execute_result"
        }
      ],
      "source": [
        "trained_model.device"
      ]
    },
    {
      "cell_type": "code",
      "execution_count": 47,
      "metadata": {},
      "outputs": [
        {
          "data": {
            "text/plain": [
              "'The capital of France is Paris.'"
            ]
          },
          "execution_count": 47,
          "metadata": {},
          "output_type": "execute_result"
        }
      ],
      "source": [
        "SYSTEM_PROMPT=\"You are a nice and helpful AI assistant. Your goal is to provide accurate, respectful, and engaging responses to the user's queries. \"\n",
        "USER_PROMPT=\"What is the capital of France?\"\n",
        "generate(format(SYSTEM_PROMPT,USER_PROMPT),trained_model,tokenizer,make_api_calls=True)"
      ]
    },
    {
      "cell_type": "code",
      "execution_count": 42,
      "metadata": {},
      "outputs": [
        {
          "data": {
            "text/plain": [
              "'WS(What is the capital of France?)→Paris is a global city of culture, finance, diplomacy, and tourism, with an estimated population of 2 million residents in 2025. It is the centre of the Île-de-France region and has many famous landmarks, museums, and historical districts.]] Paris.'"
            ]
          },
          "execution_count": 42,
          "metadata": {},
          "output_type": "execute_result"
        }
      ],
      "source": [
        "SYSTEM_PROMPT=\"You are a nice and helpful AI assistant. Your goal is to provide accurate, respectful, and engaging responses to the user's queries. \"\n",
        "USER_PROMPT=\"What is the capital of France?\"\n",
        "generate(format(SYSTEM_PROMPT,USER_PROMPT)+\"The capital of France is [[WS\",trained_model,tokenizer,make_api_calls=True)"
      ]
    },
    {
      "cell_type": "code",
      "execution_count": 44,
      "metadata": {},
      "outputs": [
        {
          "data": {
            "text/plain": [
              "\" [[WS(What is the start date of the second world war?)→World War II [b] or the Second World War (1 September 1939 - 2 September 1945) was a global conflict between two coalitions: the Allies and the Axis powers. Nearly all of the world's countries participated, with many nations mobilising all resources in pursuit of total war. Tanks and aircraft played major roles, enabling the strategic bombing of cities and delivery of the first and only...]] September 1939, when Nazi Germany, led by Adolf Hitler, invaded Poland. The war spread quickly across Europe, with Germany advancing into France, Belgium, the Netherlands, and into England. In Asia, Japan, under the leadership of Emperor Hirohito, invaded China in 1937 and continued to expand into Southeast Asia and India. The war ended with the surrender of Japan to the Allied Powers in 1945, and the death of Adolf Hitler in 1945.\""
            ]
          },
          "execution_count": 44,
          "metadata": {},
          "output_type": "execute_result"
        }
      ],
      "source": [
        "SYSTEM_PROMPT=\"You are a nice and helpful AI assistant. Your goal is to provide accurate, respectful, and engaging responses to the user's queries. \"\n",
        "USER_PROMPT=\"Describe me the history of the second world war?\"\n",
        "generate(format(SYSTEM_PROMPT,USER_PROMPT)+\"The second world war starts in [[\",trained_model,tokenizer,make_api_calls=True)"
      ]
    },
    {
      "cell_type": "markdown",
      "metadata": {},
      "source": [
        "We see that the model knows how to make queries and how to use them to generate better answers. However we see that we still need to \"push\" the model to make such WebSearch calls and will not do them on its own. This limitation is most likely a consequence of the very small scale at which our experiments were done (We trained on about 40 examples while the origianl paper used 15.000 of them for each tool).\n",
        "\n",
        "Better results could also have been obtained by having a more complex websearch part (for instance by doing RAG style retrieval on wikipedia dumps).  "
      ]
    }
  ],
  "metadata": {
    "accelerator": "GPU",
    "colab": {
      "gpuType": "T4",
      "provenance": []
    },
    "kernelspec": {
      "display_name": "base",
      "language": "python",
      "name": "python3"
    },
    "language_info": {
      "codemirror_mode": {
        "name": "ipython",
        "version": 3
      },
      "file_extension": ".py",
      "mimetype": "text/x-python",
      "name": "python",
      "nbconvert_exporter": "python",
      "pygments_lexer": "ipython3",
      "version": "3.12.7"
    },
    "widgets": {
      "application/vnd.jupyter.widget-state+json": {
        "02656ccacdb740099b6b505ed70b9293": {
          "model_module": "@jupyter-widgets/controls",
          "model_module_version": "1.5.0",
          "model_name": "ProgressStyleModel",
          "state": {
            "_model_module": "@jupyter-widgets/controls",
            "_model_module_version": "1.5.0",
            "_model_name": "ProgressStyleModel",
            "_view_count": null,
            "_view_module": "@jupyter-widgets/base",
            "_view_module_version": "1.2.0",
            "_view_name": "StyleView",
            "bar_color": null,
            "description_width": ""
          }
        },
        "0ff64c3b2e814f4196e906badca3d15b": {
          "model_module": "@jupyter-widgets/controls",
          "model_module_version": "1.5.0",
          "model_name": "DescriptionStyleModel",
          "state": {
            "_model_module": "@jupyter-widgets/controls",
            "_model_module_version": "1.5.0",
            "_model_name": "DescriptionStyleModel",
            "_view_count": null,
            "_view_module": "@jupyter-widgets/base",
            "_view_module_version": "1.2.0",
            "_view_name": "StyleView",
            "description_width": ""
          }
        },
        "1c4137632ec6449dab283b6ad67057da": {
          "model_module": "@jupyter-widgets/base",
          "model_module_version": "1.2.0",
          "model_name": "LayoutModel",
          "state": {
            "_model_module": "@jupyter-widgets/base",
            "_model_module_version": "1.2.0",
            "_model_name": "LayoutModel",
            "_view_count": null,
            "_view_module": "@jupyter-widgets/base",
            "_view_module_version": "1.2.0",
            "_view_name": "LayoutView",
            "align_content": null,
            "align_items": null,
            "align_self": null,
            "border": null,
            "bottom": null,
            "display": null,
            "flex": null,
            "flex_flow": null,
            "grid_area": null,
            "grid_auto_columns": null,
            "grid_auto_flow": null,
            "grid_auto_rows": null,
            "grid_column": null,
            "grid_gap": null,
            "grid_row": null,
            "grid_template_areas": null,
            "grid_template_columns": null,
            "grid_template_rows": null,
            "height": null,
            "justify_content": null,
            "justify_items": null,
            "left": null,
            "margin": null,
            "max_height": null,
            "max_width": null,
            "min_height": null,
            "min_width": null,
            "object_fit": null,
            "object_position": null,
            "order": null,
            "overflow": null,
            "overflow_x": null,
            "overflow_y": null,
            "padding": null,
            "right": null,
            "top": null,
            "visibility": null,
            "width": null
          }
        },
        "1d588a716d1b47ceb035b78d133b7d26": {
          "model_module": "@jupyter-widgets/controls",
          "model_module_version": "1.5.0",
          "model_name": "DescriptionStyleModel",
          "state": {
            "_model_module": "@jupyter-widgets/controls",
            "_model_module_version": "1.5.0",
            "_model_name": "DescriptionStyleModel",
            "_view_count": null,
            "_view_module": "@jupyter-widgets/base",
            "_view_module_version": "1.2.0",
            "_view_name": "StyleView",
            "description_width": ""
          }
        },
        "2415735e90704ca39864d209a22cb452": {
          "model_module": "@jupyter-widgets/base",
          "model_module_version": "1.2.0",
          "model_name": "LayoutModel",
          "state": {
            "_model_module": "@jupyter-widgets/base",
            "_model_module_version": "1.2.0",
            "_model_name": "LayoutModel",
            "_view_count": null,
            "_view_module": "@jupyter-widgets/base",
            "_view_module_version": "1.2.0",
            "_view_name": "LayoutView",
            "align_content": null,
            "align_items": null,
            "align_self": null,
            "border": null,
            "bottom": null,
            "display": null,
            "flex": null,
            "flex_flow": null,
            "grid_area": null,
            "grid_auto_columns": null,
            "grid_auto_flow": null,
            "grid_auto_rows": null,
            "grid_column": null,
            "grid_gap": null,
            "grid_row": null,
            "grid_template_areas": null,
            "grid_template_columns": null,
            "grid_template_rows": null,
            "height": null,
            "justify_content": null,
            "justify_items": null,
            "left": null,
            "margin": null,
            "max_height": null,
            "max_width": null,
            "min_height": null,
            "min_width": null,
            "object_fit": null,
            "object_position": null,
            "order": null,
            "overflow": null,
            "overflow_x": null,
            "overflow_y": null,
            "padding": null,
            "right": null,
            "top": null,
            "visibility": null,
            "width": null
          }
        },
        "29103cae2f444d328fd4fc7080b5a052": {
          "model_module": "@jupyter-widgets/base",
          "model_module_version": "1.2.0",
          "model_name": "LayoutModel",
          "state": {
            "_model_module": "@jupyter-widgets/base",
            "_model_module_version": "1.2.0",
            "_model_name": "LayoutModel",
            "_view_count": null,
            "_view_module": "@jupyter-widgets/base",
            "_view_module_version": "1.2.0",
            "_view_name": "LayoutView",
            "align_content": null,
            "align_items": null,
            "align_self": null,
            "border": null,
            "bottom": null,
            "display": null,
            "flex": null,
            "flex_flow": null,
            "grid_area": null,
            "grid_auto_columns": null,
            "grid_auto_flow": null,
            "grid_auto_rows": null,
            "grid_column": null,
            "grid_gap": null,
            "grid_row": null,
            "grid_template_areas": null,
            "grid_template_columns": null,
            "grid_template_rows": null,
            "height": null,
            "justify_content": null,
            "justify_items": null,
            "left": null,
            "margin": null,
            "max_height": null,
            "max_width": null,
            "min_height": null,
            "min_width": null,
            "object_fit": null,
            "object_position": null,
            "order": null,
            "overflow": null,
            "overflow_x": null,
            "overflow_y": null,
            "padding": null,
            "right": null,
            "top": null,
            "visibility": null,
            "width": null
          }
        },
        "2ba884c0f27244eea13482f63179ae64": {
          "model_module": "@jupyter-widgets/controls",
          "model_module_version": "1.5.0",
          "model_name": "DescriptionStyleModel",
          "state": {
            "_model_module": "@jupyter-widgets/controls",
            "_model_module_version": "1.5.0",
            "_model_name": "DescriptionStyleModel",
            "_view_count": null,
            "_view_module": "@jupyter-widgets/base",
            "_view_module_version": "1.2.0",
            "_view_name": "StyleView",
            "description_width": ""
          }
        },
        "2fa02c989de344c38f4ecc21d5936ef5": {
          "model_module": "@jupyter-widgets/controls",
          "model_module_version": "1.5.0",
          "model_name": "ProgressStyleModel",
          "state": {
            "_model_module": "@jupyter-widgets/controls",
            "_model_module_version": "1.5.0",
            "_model_name": "ProgressStyleModel",
            "_view_count": null,
            "_view_module": "@jupyter-widgets/base",
            "_view_module_version": "1.2.0",
            "_view_name": "StyleView",
            "bar_color": null,
            "description_width": ""
          }
        },
        "3ba57165c2934e9ab7514e4e15411c29": {
          "model_module": "@jupyter-widgets/controls",
          "model_module_version": "1.5.0",
          "model_name": "HTMLModel",
          "state": {
            "_dom_classes": [],
            "_model_module": "@jupyter-widgets/controls",
            "_model_module_version": "1.5.0",
            "_model_name": "HTMLModel",
            "_view_count": null,
            "_view_module": "@jupyter-widgets/controls",
            "_view_module_version": "1.5.0",
            "_view_name": "HTMLView",
            "description": "",
            "description_tooltip": null,
            "layout": "IPY_MODEL_8f1e0592dbd54e30ad98f314d8fdbb11",
            "placeholder": "​",
            "style": "IPY_MODEL_1d588a716d1b47ceb035b78d133b7d26",
            "value": "README.md: 100%"
          }
        },
        "3cdf263c940848f5ba19c5abcd432ecf": {
          "model_module": "@jupyter-widgets/controls",
          "model_module_version": "1.5.0",
          "model_name": "HTMLModel",
          "state": {
            "_dom_classes": [],
            "_model_module": "@jupyter-widgets/controls",
            "_model_module_version": "1.5.0",
            "_model_name": "HTMLModel",
            "_view_count": null,
            "_view_module": "@jupyter-widgets/controls",
            "_view_module_version": "1.5.0",
            "_view_name": "HTMLView",
            "description": "",
            "description_tooltip": null,
            "layout": "IPY_MODEL_a3ce1ec931e64503b031cc0baa9aefad",
            "placeholder": "​",
            "style": "IPY_MODEL_5ab2de097e0a4b72909fead6c327188d",
            "value": " 87599/87599 [00:00&lt;00:00, 227495.13 examples/s]"
          }
        },
        "515225600d0344f79c2a239905127cd6": {
          "model_module": "@jupyter-widgets/controls",
          "model_module_version": "1.5.0",
          "model_name": "FloatProgressModel",
          "state": {
            "_dom_classes": [],
            "_model_module": "@jupyter-widgets/controls",
            "_model_module_version": "1.5.0",
            "_model_name": "FloatProgressModel",
            "_view_count": null,
            "_view_module": "@jupyter-widgets/controls",
            "_view_module_version": "1.5.0",
            "_view_name": "ProgressView",
            "bar_style": "success",
            "description": "",
            "description_tooltip": null,
            "layout": "IPY_MODEL_29103cae2f444d328fd4fc7080b5a052",
            "max": 7620,
            "min": 0,
            "orientation": "horizontal",
            "style": "IPY_MODEL_c393d6dd207149ba8bf77d6909e3c815",
            "value": 7620
          }
        },
        "51a0477b9e9f41a58b9d064c30ff981c": {
          "model_module": "@jupyter-widgets/controls",
          "model_module_version": "1.5.0",
          "model_name": "HTMLModel",
          "state": {
            "_dom_classes": [],
            "_model_module": "@jupyter-widgets/controls",
            "_model_module_version": "1.5.0",
            "_model_name": "HTMLModel",
            "_view_count": null,
            "_view_module": "@jupyter-widgets/controls",
            "_view_module_version": "1.5.0",
            "_view_name": "HTMLView",
            "description": "",
            "description_tooltip": null,
            "layout": "IPY_MODEL_70aa4c37c81e4abc964646a17c81d5a2",
            "placeholder": "​",
            "style": "IPY_MODEL_a5992f2920724ebc85ba33cb23dd6786",
            "value": " 14.5M/14.5M [00:00&lt;00:00, 19.3MB/s]"
          }
        },
        "5975db7d6d464bb2b5586225f7b58826": {
          "model_module": "@jupyter-widgets/base",
          "model_module_version": "1.2.0",
          "model_name": "LayoutModel",
          "state": {
            "_model_module": "@jupyter-widgets/base",
            "_model_module_version": "1.2.0",
            "_model_name": "LayoutModel",
            "_view_count": null,
            "_view_module": "@jupyter-widgets/base",
            "_view_module_version": "1.2.0",
            "_view_name": "LayoutView",
            "align_content": null,
            "align_items": null,
            "align_self": null,
            "border": null,
            "bottom": null,
            "display": null,
            "flex": null,
            "flex_flow": null,
            "grid_area": null,
            "grid_auto_columns": null,
            "grid_auto_flow": null,
            "grid_auto_rows": null,
            "grid_column": null,
            "grid_gap": null,
            "grid_row": null,
            "grid_template_areas": null,
            "grid_template_columns": null,
            "grid_template_rows": null,
            "height": null,
            "justify_content": null,
            "justify_items": null,
            "left": null,
            "margin": null,
            "max_height": null,
            "max_width": null,
            "min_height": null,
            "min_width": null,
            "object_fit": null,
            "object_position": null,
            "order": null,
            "overflow": null,
            "overflow_x": null,
            "overflow_y": null,
            "padding": null,
            "right": null,
            "top": null,
            "visibility": null,
            "width": null
          }
        },
        "5ab2de097e0a4b72909fead6c327188d": {
          "model_module": "@jupyter-widgets/controls",
          "model_module_version": "1.5.0",
          "model_name": "DescriptionStyleModel",
          "state": {
            "_model_module": "@jupyter-widgets/controls",
            "_model_module_version": "1.5.0",
            "_model_name": "DescriptionStyleModel",
            "_view_count": null,
            "_view_module": "@jupyter-widgets/base",
            "_view_module_version": "1.2.0",
            "_view_name": "StyleView",
            "description_width": ""
          }
        },
        "600459d5f6914407829442dae02c7b52": {
          "model_module": "@jupyter-widgets/controls",
          "model_module_version": "1.5.0",
          "model_name": "HTMLModel",
          "state": {
            "_dom_classes": [],
            "_model_module": "@jupyter-widgets/controls",
            "_model_module_version": "1.5.0",
            "_model_name": "HTMLModel",
            "_view_count": null,
            "_view_module": "@jupyter-widgets/controls",
            "_view_module_version": "1.5.0",
            "_view_name": "HTMLView",
            "description": "",
            "description_tooltip": null,
            "layout": "IPY_MODEL_6745b15d601f4314908ef405761405e7",
            "placeholder": "​",
            "style": "IPY_MODEL_2ba884c0f27244eea13482f63179ae64",
            "value": " 10570/10570 [00:00&lt;00:00, 143184.06 examples/s]"
          }
        },
        "6745b15d601f4314908ef405761405e7": {
          "model_module": "@jupyter-widgets/base",
          "model_module_version": "1.2.0",
          "model_name": "LayoutModel",
          "state": {
            "_model_module": "@jupyter-widgets/base",
            "_model_module_version": "1.2.0",
            "_model_name": "LayoutModel",
            "_view_count": null,
            "_view_module": "@jupyter-widgets/base",
            "_view_module_version": "1.2.0",
            "_view_name": "LayoutView",
            "align_content": null,
            "align_items": null,
            "align_self": null,
            "border": null,
            "bottom": null,
            "display": null,
            "flex": null,
            "flex_flow": null,
            "grid_area": null,
            "grid_auto_columns": null,
            "grid_auto_flow": null,
            "grid_auto_rows": null,
            "grid_column": null,
            "grid_gap": null,
            "grid_row": null,
            "grid_template_areas": null,
            "grid_template_columns": null,
            "grid_template_rows": null,
            "height": null,
            "justify_content": null,
            "justify_items": null,
            "left": null,
            "margin": null,
            "max_height": null,
            "max_width": null,
            "min_height": null,
            "min_width": null,
            "object_fit": null,
            "object_position": null,
            "order": null,
            "overflow": null,
            "overflow_x": null,
            "overflow_y": null,
            "padding": null,
            "right": null,
            "top": null,
            "visibility": null,
            "width": null
          }
        },
        "6e05f0e345bc4458bb8102c41e68fdb5": {
          "model_module": "@jupyter-widgets/controls",
          "model_module_version": "1.5.0",
          "model_name": "DescriptionStyleModel",
          "state": {
            "_model_module": "@jupyter-widgets/controls",
            "_model_module_version": "1.5.0",
            "_model_name": "DescriptionStyleModel",
            "_view_count": null,
            "_view_module": "@jupyter-widgets/base",
            "_view_module_version": "1.2.0",
            "_view_name": "StyleView",
            "description_width": ""
          }
        },
        "70aa4c37c81e4abc964646a17c81d5a2": {
          "model_module": "@jupyter-widgets/base",
          "model_module_version": "1.2.0",
          "model_name": "LayoutModel",
          "state": {
            "_model_module": "@jupyter-widgets/base",
            "_model_module_version": "1.2.0",
            "_model_name": "LayoutModel",
            "_view_count": null,
            "_view_module": "@jupyter-widgets/base",
            "_view_module_version": "1.2.0",
            "_view_name": "LayoutView",
            "align_content": null,
            "align_items": null,
            "align_self": null,
            "border": null,
            "bottom": null,
            "display": null,
            "flex": null,
            "flex_flow": null,
            "grid_area": null,
            "grid_auto_columns": null,
            "grid_auto_flow": null,
            "grid_auto_rows": null,
            "grid_column": null,
            "grid_gap": null,
            "grid_row": null,
            "grid_template_areas": null,
            "grid_template_columns": null,
            "grid_template_rows": null,
            "height": null,
            "justify_content": null,
            "justify_items": null,
            "left": null,
            "margin": null,
            "max_height": null,
            "max_width": null,
            "min_height": null,
            "min_width": null,
            "object_fit": null,
            "object_position": null,
            "order": null,
            "overflow": null,
            "overflow_x": null,
            "overflow_y": null,
            "padding": null,
            "right": null,
            "top": null,
            "visibility": null,
            "width": null
          }
        },
        "7ce73f60a61c4c5cb6f4a4ce0dffa06b": {
          "model_module": "@jupyter-widgets/controls",
          "model_module_version": "1.5.0",
          "model_name": "HTMLModel",
          "state": {
            "_dom_classes": [],
            "_model_module": "@jupyter-widgets/controls",
            "_model_module_version": "1.5.0",
            "_model_name": "HTMLModel",
            "_view_count": null,
            "_view_module": "@jupyter-widgets/controls",
            "_view_module_version": "1.5.0",
            "_view_name": "HTMLView",
            "description": "",
            "description_tooltip": null,
            "layout": "IPY_MODEL_e11ccf31e4a04ee28c1842a6dfa9a02f",
            "placeholder": "​",
            "style": "IPY_MODEL_6e05f0e345bc4458bb8102c41e68fdb5",
            "value": " 1.82M/1.82M [00:00&lt;00:00, 30.7MB/s]"
          }
        },
        "7ef5eb1f477341578b7126b0fb4a6099": {
          "model_module": "@jupyter-widgets/base",
          "model_module_version": "1.2.0",
          "model_name": "LayoutModel",
          "state": {
            "_model_module": "@jupyter-widgets/base",
            "_model_module_version": "1.2.0",
            "_model_name": "LayoutModel",
            "_view_count": null,
            "_view_module": "@jupyter-widgets/base",
            "_view_module_version": "1.2.0",
            "_view_name": "LayoutView",
            "align_content": null,
            "align_items": null,
            "align_self": null,
            "border": null,
            "bottom": null,
            "display": null,
            "flex": null,
            "flex_flow": null,
            "grid_area": null,
            "grid_auto_columns": null,
            "grid_auto_flow": null,
            "grid_auto_rows": null,
            "grid_column": null,
            "grid_gap": null,
            "grid_row": null,
            "grid_template_areas": null,
            "grid_template_columns": null,
            "grid_template_rows": null,
            "height": null,
            "justify_content": null,
            "justify_items": null,
            "left": null,
            "margin": null,
            "max_height": null,
            "max_width": null,
            "min_height": null,
            "min_width": null,
            "object_fit": null,
            "object_position": null,
            "order": null,
            "overflow": null,
            "overflow_x": null,
            "overflow_y": null,
            "padding": null,
            "right": null,
            "top": null,
            "visibility": null,
            "width": null
          }
        },
        "850e430d6858488a8adee2dba43b4b7e": {
          "model_module": "@jupyter-widgets/controls",
          "model_module_version": "1.5.0",
          "model_name": "DescriptionStyleModel",
          "state": {
            "_model_module": "@jupyter-widgets/controls",
            "_model_module_version": "1.5.0",
            "_model_name": "DescriptionStyleModel",
            "_view_count": null,
            "_view_module": "@jupyter-widgets/base",
            "_view_module_version": "1.2.0",
            "_view_name": "StyleView",
            "description_width": ""
          }
        },
        "860034ccc02a48d091a1b417aa53b4a0": {
          "model_module": "@jupyter-widgets/controls",
          "model_module_version": "1.5.0",
          "model_name": "ProgressStyleModel",
          "state": {
            "_model_module": "@jupyter-widgets/controls",
            "_model_module_version": "1.5.0",
            "_model_name": "ProgressStyleModel",
            "_view_count": null,
            "_view_module": "@jupyter-widgets/base",
            "_view_module_version": "1.2.0",
            "_view_name": "StyleView",
            "bar_color": null,
            "description_width": ""
          }
        },
        "8ef4c08e939645caabe92d3528395a78": {
          "model_module": "@jupyter-widgets/base",
          "model_module_version": "1.2.0",
          "model_name": "LayoutModel",
          "state": {
            "_model_module": "@jupyter-widgets/base",
            "_model_module_version": "1.2.0",
            "_model_name": "LayoutModel",
            "_view_count": null,
            "_view_module": "@jupyter-widgets/base",
            "_view_module_version": "1.2.0",
            "_view_name": "LayoutView",
            "align_content": null,
            "align_items": null,
            "align_self": null,
            "border": null,
            "bottom": null,
            "display": null,
            "flex": null,
            "flex_flow": null,
            "grid_area": null,
            "grid_auto_columns": null,
            "grid_auto_flow": null,
            "grid_auto_rows": null,
            "grid_column": null,
            "grid_gap": null,
            "grid_row": null,
            "grid_template_areas": null,
            "grid_template_columns": null,
            "grid_template_rows": null,
            "height": null,
            "justify_content": null,
            "justify_items": null,
            "left": null,
            "margin": null,
            "max_height": null,
            "max_width": null,
            "min_height": null,
            "min_width": null,
            "object_fit": null,
            "object_position": null,
            "order": null,
            "overflow": null,
            "overflow_x": null,
            "overflow_y": null,
            "padding": null,
            "right": null,
            "top": null,
            "visibility": null,
            "width": null
          }
        },
        "8f1e0592dbd54e30ad98f314d8fdbb11": {
          "model_module": "@jupyter-widgets/base",
          "model_module_version": "1.2.0",
          "model_name": "LayoutModel",
          "state": {
            "_model_module": "@jupyter-widgets/base",
            "_model_module_version": "1.2.0",
            "_model_name": "LayoutModel",
            "_view_count": null,
            "_view_module": "@jupyter-widgets/base",
            "_view_module_version": "1.2.0",
            "_view_name": "LayoutView",
            "align_content": null,
            "align_items": null,
            "align_self": null,
            "border": null,
            "bottom": null,
            "display": null,
            "flex": null,
            "flex_flow": null,
            "grid_area": null,
            "grid_auto_columns": null,
            "grid_auto_flow": null,
            "grid_auto_rows": null,
            "grid_column": null,
            "grid_gap": null,
            "grid_row": null,
            "grid_template_areas": null,
            "grid_template_columns": null,
            "grid_template_rows": null,
            "height": null,
            "justify_content": null,
            "justify_items": null,
            "left": null,
            "margin": null,
            "max_height": null,
            "max_width": null,
            "min_height": null,
            "min_width": null,
            "object_fit": null,
            "object_position": null,
            "order": null,
            "overflow": null,
            "overflow_x": null,
            "overflow_y": null,
            "padding": null,
            "right": null,
            "top": null,
            "visibility": null,
            "width": null
          }
        },
        "8f97a1d08bb541839da461323038429a": {
          "model_module": "@jupyter-widgets/controls",
          "model_module_version": "1.5.0",
          "model_name": "FloatProgressModel",
          "state": {
            "_dom_classes": [],
            "_model_module": "@jupyter-widgets/controls",
            "_model_module_version": "1.5.0",
            "_model_name": "FloatProgressModel",
            "_view_count": null,
            "_view_module": "@jupyter-widgets/controls",
            "_view_module_version": "1.5.0",
            "_view_name": "ProgressView",
            "bar_style": "success",
            "description": "",
            "description_tooltip": null,
            "layout": "IPY_MODEL_9b6a87655e1648f497f8d99d9473618f",
            "max": 10570,
            "min": 0,
            "orientation": "horizontal",
            "style": "IPY_MODEL_860034ccc02a48d091a1b417aa53b4a0",
            "value": 10570
          }
        },
        "9081384391a14e08b7d0a4293b2ca3f8": {
          "model_module": "@jupyter-widgets/base",
          "model_module_version": "1.2.0",
          "model_name": "LayoutModel",
          "state": {
            "_model_module": "@jupyter-widgets/base",
            "_model_module_version": "1.2.0",
            "_model_name": "LayoutModel",
            "_view_count": null,
            "_view_module": "@jupyter-widgets/base",
            "_view_module_version": "1.2.0",
            "_view_name": "LayoutView",
            "align_content": null,
            "align_items": null,
            "align_self": null,
            "border": null,
            "bottom": null,
            "display": null,
            "flex": null,
            "flex_flow": null,
            "grid_area": null,
            "grid_auto_columns": null,
            "grid_auto_flow": null,
            "grid_auto_rows": null,
            "grid_column": null,
            "grid_gap": null,
            "grid_row": null,
            "grid_template_areas": null,
            "grid_template_columns": null,
            "grid_template_rows": null,
            "height": null,
            "justify_content": null,
            "justify_items": null,
            "left": null,
            "margin": null,
            "max_height": null,
            "max_width": null,
            "min_height": null,
            "min_width": null,
            "object_fit": null,
            "object_position": null,
            "order": null,
            "overflow": null,
            "overflow_x": null,
            "overflow_y": null,
            "padding": null,
            "right": null,
            "top": null,
            "visibility": null,
            "width": null
          }
        },
        "9123aee03fcf4be29ef1923985103e74": {
          "model_module": "@jupyter-widgets/base",
          "model_module_version": "1.2.0",
          "model_name": "LayoutModel",
          "state": {
            "_model_module": "@jupyter-widgets/base",
            "_model_module_version": "1.2.0",
            "_model_name": "LayoutModel",
            "_view_count": null,
            "_view_module": "@jupyter-widgets/base",
            "_view_module_version": "1.2.0",
            "_view_name": "LayoutView",
            "align_content": null,
            "align_items": null,
            "align_self": null,
            "border": null,
            "bottom": null,
            "display": null,
            "flex": null,
            "flex_flow": null,
            "grid_area": null,
            "grid_auto_columns": null,
            "grid_auto_flow": null,
            "grid_auto_rows": null,
            "grid_column": null,
            "grid_gap": null,
            "grid_row": null,
            "grid_template_areas": null,
            "grid_template_columns": null,
            "grid_template_rows": null,
            "height": null,
            "justify_content": null,
            "justify_items": null,
            "left": null,
            "margin": null,
            "max_height": null,
            "max_width": null,
            "min_height": null,
            "min_width": null,
            "object_fit": null,
            "object_position": null,
            "order": null,
            "overflow": null,
            "overflow_x": null,
            "overflow_y": null,
            "padding": null,
            "right": null,
            "top": null,
            "visibility": null,
            "width": null
          }
        },
        "92e26a568c4e434499cc7e7133326d74": {
          "model_module": "@jupyter-widgets/controls",
          "model_module_version": "1.5.0",
          "model_name": "HTMLModel",
          "state": {
            "_dom_classes": [],
            "_model_module": "@jupyter-widgets/controls",
            "_model_module_version": "1.5.0",
            "_model_name": "HTMLModel",
            "_view_count": null,
            "_view_module": "@jupyter-widgets/controls",
            "_view_module_version": "1.5.0",
            "_view_name": "HTMLView",
            "description": "",
            "description_tooltip": null,
            "layout": "IPY_MODEL_ef58f5230fff4b3e860a6f102ea44a28",
            "placeholder": "​",
            "style": "IPY_MODEL_0ff64c3b2e814f4196e906badca3d15b",
            "value": "Generating train split: 100%"
          }
        },
        "96642a34cda347ba8ad5430a4608de64": {
          "model_module": "@jupyter-widgets/base",
          "model_module_version": "1.2.0",
          "model_name": "LayoutModel",
          "state": {
            "_model_module": "@jupyter-widgets/base",
            "_model_module_version": "1.2.0",
            "_model_name": "LayoutModel",
            "_view_count": null,
            "_view_module": "@jupyter-widgets/base",
            "_view_module_version": "1.2.0",
            "_view_name": "LayoutView",
            "align_content": null,
            "align_items": null,
            "align_self": null,
            "border": null,
            "bottom": null,
            "display": null,
            "flex": null,
            "flex_flow": null,
            "grid_area": null,
            "grid_auto_columns": null,
            "grid_auto_flow": null,
            "grid_auto_rows": null,
            "grid_column": null,
            "grid_gap": null,
            "grid_row": null,
            "grid_template_areas": null,
            "grid_template_columns": null,
            "grid_template_rows": null,
            "height": null,
            "justify_content": null,
            "justify_items": null,
            "left": null,
            "margin": null,
            "max_height": null,
            "max_width": null,
            "min_height": null,
            "min_width": null,
            "object_fit": null,
            "object_position": null,
            "order": null,
            "overflow": null,
            "overflow_x": null,
            "overflow_y": null,
            "padding": null,
            "right": null,
            "top": null,
            "visibility": null,
            "width": null
          }
        },
        "9935f3779dff4748b805dd045e72d852": {
          "model_module": "@jupyter-widgets/controls",
          "model_module_version": "1.5.0",
          "model_name": "DescriptionStyleModel",
          "state": {
            "_model_module": "@jupyter-widgets/controls",
            "_model_module_version": "1.5.0",
            "_model_name": "DescriptionStyleModel",
            "_view_count": null,
            "_view_module": "@jupyter-widgets/base",
            "_view_module_version": "1.2.0",
            "_view_name": "StyleView",
            "description_width": ""
          }
        },
        "9b6a87655e1648f497f8d99d9473618f": {
          "model_module": "@jupyter-widgets/base",
          "model_module_version": "1.2.0",
          "model_name": "LayoutModel",
          "state": {
            "_model_module": "@jupyter-widgets/base",
            "_model_module_version": "1.2.0",
            "_model_name": "LayoutModel",
            "_view_count": null,
            "_view_module": "@jupyter-widgets/base",
            "_view_module_version": "1.2.0",
            "_view_name": "LayoutView",
            "align_content": null,
            "align_items": null,
            "align_self": null,
            "border": null,
            "bottom": null,
            "display": null,
            "flex": null,
            "flex_flow": null,
            "grid_area": null,
            "grid_auto_columns": null,
            "grid_auto_flow": null,
            "grid_auto_rows": null,
            "grid_column": null,
            "grid_gap": null,
            "grid_row": null,
            "grid_template_areas": null,
            "grid_template_columns": null,
            "grid_template_rows": null,
            "height": null,
            "justify_content": null,
            "justify_items": null,
            "left": null,
            "margin": null,
            "max_height": null,
            "max_width": null,
            "min_height": null,
            "min_width": null,
            "object_fit": null,
            "object_position": null,
            "order": null,
            "overflow": null,
            "overflow_x": null,
            "overflow_y": null,
            "padding": null,
            "right": null,
            "top": null,
            "visibility": null,
            "width": null
          }
        },
        "9efc8b4ac80f40db9087cd72fe3b7a87": {
          "model_module": "@jupyter-widgets/base",
          "model_module_version": "1.2.0",
          "model_name": "LayoutModel",
          "state": {
            "_model_module": "@jupyter-widgets/base",
            "_model_module_version": "1.2.0",
            "_model_name": "LayoutModel",
            "_view_count": null,
            "_view_module": "@jupyter-widgets/base",
            "_view_module_version": "1.2.0",
            "_view_name": "LayoutView",
            "align_content": null,
            "align_items": null,
            "align_self": null,
            "border": null,
            "bottom": null,
            "display": null,
            "flex": null,
            "flex_flow": null,
            "grid_area": null,
            "grid_auto_columns": null,
            "grid_auto_flow": null,
            "grid_auto_rows": null,
            "grid_column": null,
            "grid_gap": null,
            "grid_row": null,
            "grid_template_areas": null,
            "grid_template_columns": null,
            "grid_template_rows": null,
            "height": null,
            "justify_content": null,
            "justify_items": null,
            "left": null,
            "margin": null,
            "max_height": null,
            "max_width": null,
            "min_height": null,
            "min_width": null,
            "object_fit": null,
            "object_position": null,
            "order": null,
            "overflow": null,
            "overflow_x": null,
            "overflow_y": null,
            "padding": null,
            "right": null,
            "top": null,
            "visibility": null,
            "width": null
          }
        },
        "a3ce1ec931e64503b031cc0baa9aefad": {
          "model_module": "@jupyter-widgets/base",
          "model_module_version": "1.2.0",
          "model_name": "LayoutModel",
          "state": {
            "_model_module": "@jupyter-widgets/base",
            "_model_module_version": "1.2.0",
            "_model_name": "LayoutModel",
            "_view_count": null,
            "_view_module": "@jupyter-widgets/base",
            "_view_module_version": "1.2.0",
            "_view_name": "LayoutView",
            "align_content": null,
            "align_items": null,
            "align_self": null,
            "border": null,
            "bottom": null,
            "display": null,
            "flex": null,
            "flex_flow": null,
            "grid_area": null,
            "grid_auto_columns": null,
            "grid_auto_flow": null,
            "grid_auto_rows": null,
            "grid_column": null,
            "grid_gap": null,
            "grid_row": null,
            "grid_template_areas": null,
            "grid_template_columns": null,
            "grid_template_rows": null,
            "height": null,
            "justify_content": null,
            "justify_items": null,
            "left": null,
            "margin": null,
            "max_height": null,
            "max_width": null,
            "min_height": null,
            "min_width": null,
            "object_fit": null,
            "object_position": null,
            "order": null,
            "overflow": null,
            "overflow_x": null,
            "overflow_y": null,
            "padding": null,
            "right": null,
            "top": null,
            "visibility": null,
            "width": null
          }
        },
        "a5992f2920724ebc85ba33cb23dd6786": {
          "model_module": "@jupyter-widgets/controls",
          "model_module_version": "1.5.0",
          "model_name": "DescriptionStyleModel",
          "state": {
            "_model_module": "@jupyter-widgets/controls",
            "_model_module_version": "1.5.0",
            "_model_name": "DescriptionStyleModel",
            "_view_count": null,
            "_view_module": "@jupyter-widgets/base",
            "_view_module_version": "1.2.0",
            "_view_name": "StyleView",
            "description_width": ""
          }
        },
        "ade2d273b3cf475181eef63439bf245f": {
          "model_module": "@jupyter-widgets/controls",
          "model_module_version": "1.5.0",
          "model_name": "DescriptionStyleModel",
          "state": {
            "_model_module": "@jupyter-widgets/controls",
            "_model_module_version": "1.5.0",
            "_model_name": "DescriptionStyleModel",
            "_view_count": null,
            "_view_module": "@jupyter-widgets/base",
            "_view_module_version": "1.2.0",
            "_view_name": "StyleView",
            "description_width": ""
          }
        },
        "b29233829dae400dbf9dcad6f712ae4f": {
          "model_module": "@jupyter-widgets/controls",
          "model_module_version": "1.5.0",
          "model_name": "HBoxModel",
          "state": {
            "_dom_classes": [],
            "_model_module": "@jupyter-widgets/controls",
            "_model_module_version": "1.5.0",
            "_model_name": "HBoxModel",
            "_view_count": null,
            "_view_module": "@jupyter-widgets/controls",
            "_view_module_version": "1.5.0",
            "_view_name": "HBoxView",
            "box_style": "",
            "children": [
              "IPY_MODEL_e1fec7d0cf574a85b9d9e4d7a4f89639",
              "IPY_MODEL_e98efc48d8164a7996c99a65924ed3b0",
              "IPY_MODEL_51a0477b9e9f41a58b9d064c30ff981c"
            ],
            "layout": "IPY_MODEL_9123aee03fcf4be29ef1923985103e74"
          }
        },
        "bdf75e12b04e455a93a0514458ef2c96": {
          "model_module": "@jupyter-widgets/controls",
          "model_module_version": "1.5.0",
          "model_name": "HBoxModel",
          "state": {
            "_dom_classes": [],
            "_model_module": "@jupyter-widgets/controls",
            "_model_module_version": "1.5.0",
            "_model_name": "HBoxModel",
            "_view_count": null,
            "_view_module": "@jupyter-widgets/controls",
            "_view_module_version": "1.5.0",
            "_view_name": "HBoxView",
            "box_style": "",
            "children": [
              "IPY_MODEL_3ba57165c2934e9ab7514e4e15411c29",
              "IPY_MODEL_515225600d0344f79c2a239905127cd6",
              "IPY_MODEL_f550a8b0d9c047dba8a4a3bbc2d43156"
            ],
            "layout": "IPY_MODEL_7ef5eb1f477341578b7126b0fb4a6099"
          }
        },
        "be5c04f15b624e868858742b7f94332f": {
          "model_module": "@jupyter-widgets/controls",
          "model_module_version": "1.5.0",
          "model_name": "HBoxModel",
          "state": {
            "_dom_classes": [],
            "_model_module": "@jupyter-widgets/controls",
            "_model_module_version": "1.5.0",
            "_model_name": "HBoxModel",
            "_view_count": null,
            "_view_module": "@jupyter-widgets/controls",
            "_view_module_version": "1.5.0",
            "_view_name": "HBoxView",
            "box_style": "",
            "children": [
              "IPY_MODEL_f16a2b168a7c4b16952df5205e2f31d2",
              "IPY_MODEL_dce7e3b33ea749388d509525156628bb",
              "IPY_MODEL_7ce73f60a61c4c5cb6f4a4ce0dffa06b"
            ],
            "layout": "IPY_MODEL_8ef4c08e939645caabe92d3528395a78"
          }
        },
        "c18a90e714324fa594ab8f62ab22338a": {
          "model_module": "@jupyter-widgets/controls",
          "model_module_version": "1.5.0",
          "model_name": "HBoxModel",
          "state": {
            "_dom_classes": [],
            "_model_module": "@jupyter-widgets/controls",
            "_model_module_version": "1.5.0",
            "_model_name": "HBoxModel",
            "_view_count": null,
            "_view_module": "@jupyter-widgets/controls",
            "_view_module_version": "1.5.0",
            "_view_name": "HBoxView",
            "box_style": "",
            "children": [
              "IPY_MODEL_92e26a568c4e434499cc7e7133326d74",
              "IPY_MODEL_ff2baa0ee1ce4e07bd42d57dddb17f73",
              "IPY_MODEL_3cdf263c940848f5ba19c5abcd432ecf"
            ],
            "layout": "IPY_MODEL_1c4137632ec6449dab283b6ad67057da"
          }
        },
        "c393d6dd207149ba8bf77d6909e3c815": {
          "model_module": "@jupyter-widgets/controls",
          "model_module_version": "1.5.0",
          "model_name": "ProgressStyleModel",
          "state": {
            "_model_module": "@jupyter-widgets/controls",
            "_model_module_version": "1.5.0",
            "_model_name": "ProgressStyleModel",
            "_view_count": null,
            "_view_module": "@jupyter-widgets/base",
            "_view_module_version": "1.2.0",
            "_view_name": "StyleView",
            "bar_color": null,
            "description_width": ""
          }
        },
        "d660179e9f344d8aa4da7a307e474d52": {
          "model_module": "@jupyter-widgets/controls",
          "model_module_version": "1.5.0",
          "model_name": "HBoxModel",
          "state": {
            "_dom_classes": [],
            "_model_module": "@jupyter-widgets/controls",
            "_model_module_version": "1.5.0",
            "_model_name": "HBoxModel",
            "_view_count": null,
            "_view_module": "@jupyter-widgets/controls",
            "_view_module_version": "1.5.0",
            "_view_name": "HBoxView",
            "box_style": "",
            "children": [
              "IPY_MODEL_e0bb99251041487e83ddaaa0e7ebb2db",
              "IPY_MODEL_8f97a1d08bb541839da461323038429a",
              "IPY_MODEL_600459d5f6914407829442dae02c7b52"
            ],
            "layout": "IPY_MODEL_5975db7d6d464bb2b5586225f7b58826"
          }
        },
        "d852e441662d48a69f9e3115a408f3cc": {
          "model_module": "@jupyter-widgets/controls",
          "model_module_version": "1.5.0",
          "model_name": "ProgressStyleModel",
          "state": {
            "_model_module": "@jupyter-widgets/controls",
            "_model_module_version": "1.5.0",
            "_model_name": "ProgressStyleModel",
            "_view_count": null,
            "_view_module": "@jupyter-widgets/base",
            "_view_module_version": "1.2.0",
            "_view_name": "StyleView",
            "bar_color": null,
            "description_width": ""
          }
        },
        "dce7e3b33ea749388d509525156628bb": {
          "model_module": "@jupyter-widgets/controls",
          "model_module_version": "1.5.0",
          "model_name": "FloatProgressModel",
          "state": {
            "_dom_classes": [],
            "_model_module": "@jupyter-widgets/controls",
            "_model_module_version": "1.5.0",
            "_model_name": "FloatProgressModel",
            "_view_count": null,
            "_view_module": "@jupyter-widgets/controls",
            "_view_module_version": "1.5.0",
            "_view_name": "ProgressView",
            "bar_style": "success",
            "description": "",
            "description_tooltip": null,
            "layout": "IPY_MODEL_e20d978b58e149219e0ab9f362c42057",
            "max": 1819889,
            "min": 0,
            "orientation": "horizontal",
            "style": "IPY_MODEL_d852e441662d48a69f9e3115a408f3cc",
            "value": 1819889
          }
        },
        "ddce33f7d7244e27a29f5e56a010288d": {
          "model_module": "@jupyter-widgets/base",
          "model_module_version": "1.2.0",
          "model_name": "LayoutModel",
          "state": {
            "_model_module": "@jupyter-widgets/base",
            "_model_module_version": "1.2.0",
            "_model_name": "LayoutModel",
            "_view_count": null,
            "_view_module": "@jupyter-widgets/base",
            "_view_module_version": "1.2.0",
            "_view_name": "LayoutView",
            "align_content": null,
            "align_items": null,
            "align_self": null,
            "border": null,
            "bottom": null,
            "display": null,
            "flex": null,
            "flex_flow": null,
            "grid_area": null,
            "grid_auto_columns": null,
            "grid_auto_flow": null,
            "grid_auto_rows": null,
            "grid_column": null,
            "grid_gap": null,
            "grid_row": null,
            "grid_template_areas": null,
            "grid_template_columns": null,
            "grid_template_rows": null,
            "height": null,
            "justify_content": null,
            "justify_items": null,
            "left": null,
            "margin": null,
            "max_height": null,
            "max_width": null,
            "min_height": null,
            "min_width": null,
            "object_fit": null,
            "object_position": null,
            "order": null,
            "overflow": null,
            "overflow_x": null,
            "overflow_y": null,
            "padding": null,
            "right": null,
            "top": null,
            "visibility": null,
            "width": null
          }
        },
        "e0bb99251041487e83ddaaa0e7ebb2db": {
          "model_module": "@jupyter-widgets/controls",
          "model_module_version": "1.5.0",
          "model_name": "HTMLModel",
          "state": {
            "_dom_classes": [],
            "_model_module": "@jupyter-widgets/controls",
            "_model_module_version": "1.5.0",
            "_model_name": "HTMLModel",
            "_view_count": null,
            "_view_module": "@jupyter-widgets/controls",
            "_view_module_version": "1.5.0",
            "_view_name": "HTMLView",
            "description": "",
            "description_tooltip": null,
            "layout": "IPY_MODEL_9efc8b4ac80f40db9087cd72fe3b7a87",
            "placeholder": "​",
            "style": "IPY_MODEL_850e430d6858488a8adee2dba43b4b7e",
            "value": "Generating validation split: 100%"
          }
        },
        "e11ccf31e4a04ee28c1842a6dfa9a02f": {
          "model_module": "@jupyter-widgets/base",
          "model_module_version": "1.2.0",
          "model_name": "LayoutModel",
          "state": {
            "_model_module": "@jupyter-widgets/base",
            "_model_module_version": "1.2.0",
            "_model_name": "LayoutModel",
            "_view_count": null,
            "_view_module": "@jupyter-widgets/base",
            "_view_module_version": "1.2.0",
            "_view_name": "LayoutView",
            "align_content": null,
            "align_items": null,
            "align_self": null,
            "border": null,
            "bottom": null,
            "display": null,
            "flex": null,
            "flex_flow": null,
            "grid_area": null,
            "grid_auto_columns": null,
            "grid_auto_flow": null,
            "grid_auto_rows": null,
            "grid_column": null,
            "grid_gap": null,
            "grid_row": null,
            "grid_template_areas": null,
            "grid_template_columns": null,
            "grid_template_rows": null,
            "height": null,
            "justify_content": null,
            "justify_items": null,
            "left": null,
            "margin": null,
            "max_height": null,
            "max_width": null,
            "min_height": null,
            "min_width": null,
            "object_fit": null,
            "object_position": null,
            "order": null,
            "overflow": null,
            "overflow_x": null,
            "overflow_y": null,
            "padding": null,
            "right": null,
            "top": null,
            "visibility": null,
            "width": null
          }
        },
        "e1fec7d0cf574a85b9d9e4d7a4f89639": {
          "model_module": "@jupyter-widgets/controls",
          "model_module_version": "1.5.0",
          "model_name": "HTMLModel",
          "state": {
            "_dom_classes": [],
            "_model_module": "@jupyter-widgets/controls",
            "_model_module_version": "1.5.0",
            "_model_name": "HTMLModel",
            "_view_count": null,
            "_view_module": "@jupyter-widgets/controls",
            "_view_module_version": "1.5.0",
            "_view_name": "HTMLView",
            "description": "",
            "description_tooltip": null,
            "layout": "IPY_MODEL_ffba0235fd764afebeb1881098c359fe",
            "placeholder": "​",
            "style": "IPY_MODEL_ade2d273b3cf475181eef63439bf245f",
            "value": "train-00000-of-00001.parquet: 100%"
          }
        },
        "e20d978b58e149219e0ab9f362c42057": {
          "model_module": "@jupyter-widgets/base",
          "model_module_version": "1.2.0",
          "model_name": "LayoutModel",
          "state": {
            "_model_module": "@jupyter-widgets/base",
            "_model_module_version": "1.2.0",
            "_model_name": "LayoutModel",
            "_view_count": null,
            "_view_module": "@jupyter-widgets/base",
            "_view_module_version": "1.2.0",
            "_view_name": "LayoutView",
            "align_content": null,
            "align_items": null,
            "align_self": null,
            "border": null,
            "bottom": null,
            "display": null,
            "flex": null,
            "flex_flow": null,
            "grid_area": null,
            "grid_auto_columns": null,
            "grid_auto_flow": null,
            "grid_auto_rows": null,
            "grid_column": null,
            "grid_gap": null,
            "grid_row": null,
            "grid_template_areas": null,
            "grid_template_columns": null,
            "grid_template_rows": null,
            "height": null,
            "justify_content": null,
            "justify_items": null,
            "left": null,
            "margin": null,
            "max_height": null,
            "max_width": null,
            "min_height": null,
            "min_width": null,
            "object_fit": null,
            "object_position": null,
            "order": null,
            "overflow": null,
            "overflow_x": null,
            "overflow_y": null,
            "padding": null,
            "right": null,
            "top": null,
            "visibility": null,
            "width": null
          }
        },
        "e9439990ef264d529e47a6f66c54d799": {
          "model_module": "@jupyter-widgets/controls",
          "model_module_version": "1.5.0",
          "model_name": "DescriptionStyleModel",
          "state": {
            "_model_module": "@jupyter-widgets/controls",
            "_model_module_version": "1.5.0",
            "_model_name": "DescriptionStyleModel",
            "_view_count": null,
            "_view_module": "@jupyter-widgets/base",
            "_view_module_version": "1.2.0",
            "_view_name": "StyleView",
            "description_width": ""
          }
        },
        "e98efc48d8164a7996c99a65924ed3b0": {
          "model_module": "@jupyter-widgets/controls",
          "model_module_version": "1.5.0",
          "model_name": "FloatProgressModel",
          "state": {
            "_dom_classes": [],
            "_model_module": "@jupyter-widgets/controls",
            "_model_module_version": "1.5.0",
            "_model_name": "FloatProgressModel",
            "_view_count": null,
            "_view_module": "@jupyter-widgets/controls",
            "_view_module_version": "1.5.0",
            "_view_name": "ProgressView",
            "bar_style": "success",
            "description": "",
            "description_tooltip": null,
            "layout": "IPY_MODEL_96642a34cda347ba8ad5430a4608de64",
            "max": 14458314,
            "min": 0,
            "orientation": "horizontal",
            "style": "IPY_MODEL_2fa02c989de344c38f4ecc21d5936ef5",
            "value": 14458314
          }
        },
        "ef58f5230fff4b3e860a6f102ea44a28": {
          "model_module": "@jupyter-widgets/base",
          "model_module_version": "1.2.0",
          "model_name": "LayoutModel",
          "state": {
            "_model_module": "@jupyter-widgets/base",
            "_model_module_version": "1.2.0",
            "_model_name": "LayoutModel",
            "_view_count": null,
            "_view_module": "@jupyter-widgets/base",
            "_view_module_version": "1.2.0",
            "_view_name": "LayoutView",
            "align_content": null,
            "align_items": null,
            "align_self": null,
            "border": null,
            "bottom": null,
            "display": null,
            "flex": null,
            "flex_flow": null,
            "grid_area": null,
            "grid_auto_columns": null,
            "grid_auto_flow": null,
            "grid_auto_rows": null,
            "grid_column": null,
            "grid_gap": null,
            "grid_row": null,
            "grid_template_areas": null,
            "grid_template_columns": null,
            "grid_template_rows": null,
            "height": null,
            "justify_content": null,
            "justify_items": null,
            "left": null,
            "margin": null,
            "max_height": null,
            "max_width": null,
            "min_height": null,
            "min_width": null,
            "object_fit": null,
            "object_position": null,
            "order": null,
            "overflow": null,
            "overflow_x": null,
            "overflow_y": null,
            "padding": null,
            "right": null,
            "top": null,
            "visibility": null,
            "width": null
          }
        },
        "f16a2b168a7c4b16952df5205e2f31d2": {
          "model_module": "@jupyter-widgets/controls",
          "model_module_version": "1.5.0",
          "model_name": "HTMLModel",
          "state": {
            "_dom_classes": [],
            "_model_module": "@jupyter-widgets/controls",
            "_model_module_version": "1.5.0",
            "_model_name": "HTMLModel",
            "_view_count": null,
            "_view_module": "@jupyter-widgets/controls",
            "_view_module_version": "1.5.0",
            "_view_name": "HTMLView",
            "description": "",
            "description_tooltip": null,
            "layout": "IPY_MODEL_9081384391a14e08b7d0a4293b2ca3f8",
            "placeholder": "​",
            "style": "IPY_MODEL_9935f3779dff4748b805dd045e72d852",
            "value": "validation-00000-of-00001.parquet: 100%"
          }
        },
        "f550a8b0d9c047dba8a4a3bbc2d43156": {
          "model_module": "@jupyter-widgets/controls",
          "model_module_version": "1.5.0",
          "model_name": "HTMLModel",
          "state": {
            "_dom_classes": [],
            "_model_module": "@jupyter-widgets/controls",
            "_model_module_version": "1.5.0",
            "_model_name": "HTMLModel",
            "_view_count": null,
            "_view_module": "@jupyter-widgets/controls",
            "_view_module_version": "1.5.0",
            "_view_name": "HTMLView",
            "description": "",
            "description_tooltip": null,
            "layout": "IPY_MODEL_ddce33f7d7244e27a29f5e56a010288d",
            "placeholder": "​",
            "style": "IPY_MODEL_e9439990ef264d529e47a6f66c54d799",
            "value": " 7.62k/7.62k [00:00&lt;00:00, 518kB/s]"
          }
        },
        "ff2baa0ee1ce4e07bd42d57dddb17f73": {
          "model_module": "@jupyter-widgets/controls",
          "model_module_version": "1.5.0",
          "model_name": "FloatProgressModel",
          "state": {
            "_dom_classes": [],
            "_model_module": "@jupyter-widgets/controls",
            "_model_module_version": "1.5.0",
            "_model_name": "FloatProgressModel",
            "_view_count": null,
            "_view_module": "@jupyter-widgets/controls",
            "_view_module_version": "1.5.0",
            "_view_name": "ProgressView",
            "bar_style": "success",
            "description": "",
            "description_tooltip": null,
            "layout": "IPY_MODEL_2415735e90704ca39864d209a22cb452",
            "max": 87599,
            "min": 0,
            "orientation": "horizontal",
            "style": "IPY_MODEL_02656ccacdb740099b6b505ed70b9293",
            "value": 87599
          }
        },
        "ffba0235fd764afebeb1881098c359fe": {
          "model_module": "@jupyter-widgets/base",
          "model_module_version": "1.2.0",
          "model_name": "LayoutModel",
          "state": {
            "_model_module": "@jupyter-widgets/base",
            "_model_module_version": "1.2.0",
            "_model_name": "LayoutModel",
            "_view_count": null,
            "_view_module": "@jupyter-widgets/base",
            "_view_module_version": "1.2.0",
            "_view_name": "LayoutView",
            "align_content": null,
            "align_items": null,
            "align_self": null,
            "border": null,
            "bottom": null,
            "display": null,
            "flex": null,
            "flex_flow": null,
            "grid_area": null,
            "grid_auto_columns": null,
            "grid_auto_flow": null,
            "grid_auto_rows": null,
            "grid_column": null,
            "grid_gap": null,
            "grid_row": null,
            "grid_template_areas": null,
            "grid_template_columns": null,
            "grid_template_rows": null,
            "height": null,
            "justify_content": null,
            "justify_items": null,
            "left": null,
            "margin": null,
            "max_height": null,
            "max_width": null,
            "min_height": null,
            "min_width": null,
            "object_fit": null,
            "object_position": null,
            "order": null,
            "overflow": null,
            "overflow_x": null,
            "overflow_y": null,
            "padding": null,
            "right": null,
            "top": null,
            "visibility": null,
            "width": null
          }
        }
      }
    }
  },
  "nbformat": 4,
  "nbformat_minor": 0
}
